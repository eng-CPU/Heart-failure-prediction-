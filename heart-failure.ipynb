{
 "cells": [
  {
   "cell_type": "code",
   "execution_count": 47,
   "metadata": {
    "execution": {
     "iopub.execute_input": "2024-08-11T19:52:47.890266Z",
     "iopub.status.busy": "2024-08-11T19:52:47.888345Z",
     "iopub.status.idle": "2024-08-11T19:52:47.896716Z",
     "shell.execute_reply": "2024-08-11T19:52:47.895351Z",
     "shell.execute_reply.started": "2024-08-11T19:52:47.890207Z"
    }
   },
   "outputs": [],
   "source": [
    "import numpy as np\n",
    "import pandas as pd"
   ]
  },
  {
   "cell_type": "code",
   "execution_count": 48,
   "metadata": {
    "execution": {
     "iopub.execute_input": "2024-08-11T19:52:47.903836Z",
     "iopub.status.busy": "2024-08-11T19:52:47.903373Z",
     "iopub.status.idle": "2024-08-11T19:52:47.939885Z",
     "shell.execute_reply": "2024-08-11T19:52:47.938759Z",
     "shell.execute_reply.started": "2024-08-11T19:52:47.903789Z"
    }
   },
   "outputs": [
    {
     "data": {
      "text/html": [
       "<div>\n",
       "<style scoped>\n",
       "    .dataframe tbody tr th:only-of-type {\n",
       "        vertical-align: middle;\n",
       "    }\n",
       "\n",
       "    .dataframe tbody tr th {\n",
       "        vertical-align: top;\n",
       "    }\n",
       "\n",
       "    .dataframe thead th {\n",
       "        text-align: right;\n",
       "    }\n",
       "</style>\n",
       "<table border=\"1\" class=\"dataframe\">\n",
       "  <thead>\n",
       "    <tr style=\"text-align: right;\">\n",
       "      <th></th>\n",
       "      <th>Age</th>\n",
       "      <th>Sex</th>\n",
       "      <th>ChestPainType</th>\n",
       "      <th>RestingBP</th>\n",
       "      <th>Cholesterol</th>\n",
       "      <th>FastingBS</th>\n",
       "      <th>RestingECG</th>\n",
       "      <th>MaxHR</th>\n",
       "      <th>ExerciseAngina</th>\n",
       "      <th>Oldpeak</th>\n",
       "      <th>ST_Slope</th>\n",
       "      <th>HeartDisease</th>\n",
       "    </tr>\n",
       "  </thead>\n",
       "  <tbody>\n",
       "    <tr>\n",
       "      <th>0</th>\n",
       "      <td>40</td>\n",
       "      <td>M</td>\n",
       "      <td>ATA</td>\n",
       "      <td>140</td>\n",
       "      <td>289</td>\n",
       "      <td>0</td>\n",
       "      <td>Normal</td>\n",
       "      <td>172</td>\n",
       "      <td>N</td>\n",
       "      <td>0.0</td>\n",
       "      <td>Up</td>\n",
       "      <td>0</td>\n",
       "    </tr>\n",
       "    <tr>\n",
       "      <th>1</th>\n",
       "      <td>49</td>\n",
       "      <td>F</td>\n",
       "      <td>NAP</td>\n",
       "      <td>160</td>\n",
       "      <td>180</td>\n",
       "      <td>0</td>\n",
       "      <td>Normal</td>\n",
       "      <td>156</td>\n",
       "      <td>N</td>\n",
       "      <td>1.0</td>\n",
       "      <td>Flat</td>\n",
       "      <td>1</td>\n",
       "    </tr>\n",
       "    <tr>\n",
       "      <th>2</th>\n",
       "      <td>37</td>\n",
       "      <td>M</td>\n",
       "      <td>ATA</td>\n",
       "      <td>130</td>\n",
       "      <td>283</td>\n",
       "      <td>0</td>\n",
       "      <td>ST</td>\n",
       "      <td>98</td>\n",
       "      <td>N</td>\n",
       "      <td>0.0</td>\n",
       "      <td>Up</td>\n",
       "      <td>0</td>\n",
       "    </tr>\n",
       "    <tr>\n",
       "      <th>3</th>\n",
       "      <td>48</td>\n",
       "      <td>F</td>\n",
       "      <td>ASY</td>\n",
       "      <td>138</td>\n",
       "      <td>214</td>\n",
       "      <td>0</td>\n",
       "      <td>Normal</td>\n",
       "      <td>108</td>\n",
       "      <td>Y</td>\n",
       "      <td>1.5</td>\n",
       "      <td>Flat</td>\n",
       "      <td>1</td>\n",
       "    </tr>\n",
       "    <tr>\n",
       "      <th>4</th>\n",
       "      <td>54</td>\n",
       "      <td>M</td>\n",
       "      <td>NAP</td>\n",
       "      <td>150</td>\n",
       "      <td>195</td>\n",
       "      <td>0</td>\n",
       "      <td>Normal</td>\n",
       "      <td>122</td>\n",
       "      <td>N</td>\n",
       "      <td>0.0</td>\n",
       "      <td>Up</td>\n",
       "      <td>0</td>\n",
       "    </tr>\n",
       "    <tr>\n",
       "      <th>...</th>\n",
       "      <td>...</td>\n",
       "      <td>...</td>\n",
       "      <td>...</td>\n",
       "      <td>...</td>\n",
       "      <td>...</td>\n",
       "      <td>...</td>\n",
       "      <td>...</td>\n",
       "      <td>...</td>\n",
       "      <td>...</td>\n",
       "      <td>...</td>\n",
       "      <td>...</td>\n",
       "      <td>...</td>\n",
       "    </tr>\n",
       "    <tr>\n",
       "      <th>913</th>\n",
       "      <td>45</td>\n",
       "      <td>M</td>\n",
       "      <td>TA</td>\n",
       "      <td>110</td>\n",
       "      <td>264</td>\n",
       "      <td>0</td>\n",
       "      <td>Normal</td>\n",
       "      <td>132</td>\n",
       "      <td>N</td>\n",
       "      <td>1.2</td>\n",
       "      <td>Flat</td>\n",
       "      <td>1</td>\n",
       "    </tr>\n",
       "    <tr>\n",
       "      <th>914</th>\n",
       "      <td>68</td>\n",
       "      <td>M</td>\n",
       "      <td>ASY</td>\n",
       "      <td>144</td>\n",
       "      <td>193</td>\n",
       "      <td>1</td>\n",
       "      <td>Normal</td>\n",
       "      <td>141</td>\n",
       "      <td>N</td>\n",
       "      <td>3.4</td>\n",
       "      <td>Flat</td>\n",
       "      <td>1</td>\n",
       "    </tr>\n",
       "    <tr>\n",
       "      <th>915</th>\n",
       "      <td>57</td>\n",
       "      <td>M</td>\n",
       "      <td>ASY</td>\n",
       "      <td>130</td>\n",
       "      <td>131</td>\n",
       "      <td>0</td>\n",
       "      <td>Normal</td>\n",
       "      <td>115</td>\n",
       "      <td>Y</td>\n",
       "      <td>1.2</td>\n",
       "      <td>Flat</td>\n",
       "      <td>1</td>\n",
       "    </tr>\n",
       "    <tr>\n",
       "      <th>916</th>\n",
       "      <td>57</td>\n",
       "      <td>F</td>\n",
       "      <td>ATA</td>\n",
       "      <td>130</td>\n",
       "      <td>236</td>\n",
       "      <td>0</td>\n",
       "      <td>LVH</td>\n",
       "      <td>174</td>\n",
       "      <td>N</td>\n",
       "      <td>0.0</td>\n",
       "      <td>Flat</td>\n",
       "      <td>1</td>\n",
       "    </tr>\n",
       "    <tr>\n",
       "      <th>917</th>\n",
       "      <td>38</td>\n",
       "      <td>M</td>\n",
       "      <td>NAP</td>\n",
       "      <td>138</td>\n",
       "      <td>175</td>\n",
       "      <td>0</td>\n",
       "      <td>Normal</td>\n",
       "      <td>173</td>\n",
       "      <td>N</td>\n",
       "      <td>0.0</td>\n",
       "      <td>Up</td>\n",
       "      <td>0</td>\n",
       "    </tr>\n",
       "  </tbody>\n",
       "</table>\n",
       "<p>918 rows × 12 columns</p>\n",
       "</div>"
      ],
      "text/plain": [
       "     Age Sex ChestPainType  RestingBP  Cholesterol  FastingBS RestingECG  \\\n",
       "0     40   M           ATA        140          289          0     Normal   \n",
       "1     49   F           NAP        160          180          0     Normal   \n",
       "2     37   M           ATA        130          283          0         ST   \n",
       "3     48   F           ASY        138          214          0     Normal   \n",
       "4     54   M           NAP        150          195          0     Normal   \n",
       "..   ...  ..           ...        ...          ...        ...        ...   \n",
       "913   45   M            TA        110          264          0     Normal   \n",
       "914   68   M           ASY        144          193          1     Normal   \n",
       "915   57   M           ASY        130          131          0     Normal   \n",
       "916   57   F           ATA        130          236          0        LVH   \n",
       "917   38   M           NAP        138          175          0     Normal   \n",
       "\n",
       "     MaxHR ExerciseAngina  Oldpeak ST_Slope  HeartDisease  \n",
       "0      172              N      0.0       Up             0  \n",
       "1      156              N      1.0     Flat             1  \n",
       "2       98              N      0.0       Up             0  \n",
       "3      108              Y      1.5     Flat             1  \n",
       "4      122              N      0.0       Up             0  \n",
       "..     ...            ...      ...      ...           ...  \n",
       "913    132              N      1.2     Flat             1  \n",
       "914    141              N      3.4     Flat             1  \n",
       "915    115              Y      1.2     Flat             1  \n",
       "916    174              N      0.0     Flat             1  \n",
       "917    173              N      0.0       Up             0  \n",
       "\n",
       "[918 rows x 12 columns]"
      ]
     },
     "execution_count": 48,
     "metadata": {},
     "output_type": "execute_result"
    }
   ],
   "source": [
    "df =pd.read_csv(\"C:\\Users\\hp\\Downloads\\Heart\\heart.csv\")\n",
    "df"
   ]
  },
  {
   "cell_type": "code",
   "execution_count": 49,
   "metadata": {
    "execution": {
     "iopub.execute_input": "2024-08-11T19:52:47.942267Z",
     "iopub.status.busy": "2024-08-11T19:52:47.941868Z",
     "iopub.status.idle": "2024-08-11T19:52:47.957319Z",
     "shell.execute_reply": "2024-08-11T19:52:47.955961Z",
     "shell.execute_reply.started": "2024-08-11T19:52:47.942235Z"
    }
   },
   "outputs": [
    {
     "name": "stdout",
     "output_type": "stream",
     "text": [
      "<class 'pandas.core.frame.DataFrame'>\n",
      "RangeIndex: 918 entries, 0 to 917\n",
      "Data columns (total 12 columns):\n",
      " #   Column          Non-Null Count  Dtype  \n",
      "---  ------          --------------  -----  \n",
      " 0   Age             918 non-null    int64  \n",
      " 1   Sex             918 non-null    object \n",
      " 2   ChestPainType   918 non-null    object \n",
      " 3   RestingBP       918 non-null    int64  \n",
      " 4   Cholesterol     918 non-null    int64  \n",
      " 5   FastingBS       918 non-null    int64  \n",
      " 6   RestingECG      918 non-null    object \n",
      " 7   MaxHR           918 non-null    int64  \n",
      " 8   ExerciseAngina  918 non-null    object \n",
      " 9   Oldpeak         918 non-null    float64\n",
      " 10  ST_Slope        918 non-null    object \n",
      " 11  HeartDisease    918 non-null    int64  \n",
      "dtypes: float64(1), int64(6), object(5)\n",
      "memory usage: 86.2+ KB\n"
     ]
    }
   ],
   "source": [
    "df.info()"
   ]
  },
  {
   "cell_type": "markdown",
   "metadata": {},
   "source": [
    "### Sex analysis"
   ]
  },
  {
   "cell_type": "code",
   "execution_count": 50,
   "metadata": {
    "execution": {
     "iopub.execute_input": "2024-08-11T19:52:48.238868Z",
     "iopub.status.busy": "2024-08-11T19:52:48.238348Z",
     "iopub.status.idle": "2024-08-11T19:52:48.254419Z",
     "shell.execute_reply": "2024-08-11T19:52:48.252962Z",
     "shell.execute_reply.started": "2024-08-11T19:52:48.238835Z"
    }
   },
   "outputs": [
    {
     "data": {
      "text/html": [
       "<div>\n",
       "<style scoped>\n",
       "    .dataframe tbody tr th:only-of-type {\n",
       "        vertical-align: middle;\n",
       "    }\n",
       "\n",
       "    .dataframe tbody tr th {\n",
       "        vertical-align: top;\n",
       "    }\n",
       "\n",
       "    .dataframe thead th {\n",
       "        text-align: right;\n",
       "    }\n",
       "</style>\n",
       "<table border=\"1\" class=\"dataframe\">\n",
       "  <thead>\n",
       "    <tr style=\"text-align: right;\">\n",
       "      <th></th>\n",
       "      <th>Frequency</th>\n",
       "      <th>Percentage %</th>\n",
       "    </tr>\n",
       "    <tr>\n",
       "      <th>Sex</th>\n",
       "      <th></th>\n",
       "      <th></th>\n",
       "    </tr>\n",
       "  </thead>\n",
       "  <tbody>\n",
       "    <tr>\n",
       "      <th>M</th>\n",
       "      <td>725</td>\n",
       "      <td>78.976035</td>\n",
       "    </tr>\n",
       "    <tr>\n",
       "      <th>F</th>\n",
       "      <td>193</td>\n",
       "      <td>21.023965</td>\n",
       "    </tr>\n",
       "  </tbody>\n",
       "</table>\n",
       "</div>"
      ],
      "text/plain": [
       "     Frequency  Percentage %\n",
       "Sex                         \n",
       "M          725     78.976035\n",
       "F          193     21.023965"
      ]
     },
     "execution_count": 50,
     "metadata": {},
     "output_type": "execute_result"
    }
   ],
   "source": [
    "sex_counts=df['Sex'].value_counts()\n",
    "sex_percent=df['Sex'].value_counts(normalize=True)*100\n",
    "freq_table1=pd.DataFrame({'Frequency':sex_counts,'Percentage %':sex_percent})\n",
    "freq_table1\n"
   ]
  },
  {
   "cell_type": "code",
   "execution_count": 51,
   "metadata": {
    "execution": {
     "iopub.execute_input": "2024-08-11T19:52:48.257559Z",
     "iopub.status.busy": "2024-08-11T19:52:48.257199Z",
     "iopub.status.idle": "2024-08-11T19:52:48.505459Z",
     "shell.execute_reply": "2024-08-11T19:52:48.504406Z",
     "shell.execute_reply.started": "2024-08-11T19:52:48.257530Z"
    }
   },
   "outputs": [
    {
     "data": {
      "text/plain": [
       "<Axes: xlabel='Sex'>"
      ]
     },
     "execution_count": 51,
     "metadata": {},
     "output_type": "execute_result"
    },
    {
     "data": {
      "image/png": "[encoded data removed]",
      "text/plain": [
       "<Figure size 640x480 with 1 Axes>"
      ]
     },
     "metadata": {},
     "output_type": "display_data"
    }
   ],
   "source": [
    "sex_counts.plot(kind='bar')"
   ]
  },
  {
   "cell_type": "markdown",
   "metadata": {},
   "source": [
    "- Males more than females "
   ]
  },
  {
   "cell_type": "code",
   "execution_count": 52,
   "metadata": {
    "execution": {
     "iopub.execute_input": "2024-08-11T19:52:48.508269Z",
     "iopub.status.busy": "2024-08-11T19:52:48.507904Z",
     "iopub.status.idle": "2024-08-11T19:52:48.677112Z",
     "shell.execute_reply": "2024-08-11T19:52:48.675164Z",
     "shell.execute_reply.started": "2024-08-11T19:52:48.508239Z"
    }
   },
   "outputs": [
    {
     "data": {
      "text/plain": [
       "<Axes: ylabel='count'>"
      ]
     },
     "execution_count": 52,
     "metadata": {},
     "output_type": "execute_result"
    },
    {
     "data": {
      "image/png": "[encoded data removed]",
      "text/plain": [
       "<Figure size 640x480 with 1 Axes>"
      ]
     },
     "metadata": {},
     "output_type": "display_data"
    }
   ],
   "source": [
    "sex_counts.plot(kind='pie')"
   ]
  },
  {
   "cell_type": "markdown",
   "metadata": {},
   "source": [
    "### Chest pain type analysis"
   ]
  },
  {
   "cell_type": "code",
   "execution_count": 53,
   "metadata": {
    "execution": {
     "iopub.execute_input": "2024-08-11T19:52:48.680375Z",
     "iopub.status.busy": "2024-08-11T19:52:48.679498Z",
     "iopub.status.idle": "2024-08-11T19:52:48.707891Z",
     "shell.execute_reply": "2024-08-11T19:52:48.705917Z",
     "shell.execute_reply.started": "2024-08-11T19:52:48.680317Z"
    }
   },
   "outputs": [
    {
     "data": {
      "text/html": [
       "<div>\n",
       "<style scoped>\n",
       "    .dataframe tbody tr th:only-of-type {\n",
       "        vertical-align: middle;\n",
       "    }\n",
       "\n",
       "    .dataframe tbody tr th {\n",
       "        vertical-align: top;\n",
       "    }\n",
       "\n",
       "    .dataframe thead th {\n",
       "        text-align: right;\n",
       "    }\n",
       "</style>\n",
       "<table border=\"1\" class=\"dataframe\">\n",
       "  <thead>\n",
       "    <tr style=\"text-align: right;\">\n",
       "      <th></th>\n",
       "      <th>Frequency</th>\n",
       "      <th>Percentage %</th>\n",
       "    </tr>\n",
       "    <tr>\n",
       "      <th>ChestPainType</th>\n",
       "      <th></th>\n",
       "      <th></th>\n",
       "    </tr>\n",
       "  </thead>\n",
       "  <tbody>\n",
       "    <tr>\n",
       "      <th>ASY</th>\n",
       "      <td>496</td>\n",
       "      <td>54.030501</td>\n",
       "    </tr>\n",
       "    <tr>\n",
       "      <th>NAP</th>\n",
       "      <td>203</td>\n",
       "      <td>22.113290</td>\n",
       "    </tr>\n",
       "    <tr>\n",
       "      <th>ATA</th>\n",
       "      <td>173</td>\n",
       "      <td>18.845316</td>\n",
       "    </tr>\n",
       "    <tr>\n",
       "      <th>TA</th>\n",
       "      <td>46</td>\n",
       "      <td>5.010893</td>\n",
       "    </tr>\n",
       "  </tbody>\n",
       "</table>\n",
       "</div>"
      ],
      "text/plain": [
       "               Frequency  Percentage %\n",
       "ChestPainType                         \n",
       "ASY                  496     54.030501\n",
       "NAP                  203     22.113290\n",
       "ATA                  173     18.845316\n",
       "TA                    46      5.010893"
      ]
     },
     "execution_count": 53,
     "metadata": {},
     "output_type": "execute_result"
    }
   ],
   "source": [
    "chestPainType_counts=df['ChestPainType'].value_counts()\n",
    "chestPainType_percent=df['ChestPainType'].value_counts(normalize=True)*100\n",
    "freq_table2=pd.DataFrame({'Frequency':chestPainType_counts,'Percentage %':chestPainType_percent})\n",
    "freq_table2"
   ]
  },
  {
   "cell_type": "code",
   "execution_count": 54,
   "metadata": {
    "execution": {
     "iopub.execute_input": "2024-08-11T19:52:48.711441Z",
     "iopub.status.busy": "2024-08-11T19:52:48.709912Z",
     "iopub.status.idle": "2024-08-11T19:52:48.980127Z",
     "shell.execute_reply": "2024-08-11T19:52:48.978816Z",
     "shell.execute_reply.started": "2024-08-11T19:52:48.711370Z"
    }
   },
   "outputs": [
    {
     "data": {
      "text/plain": [
       "<Axes: xlabel='ChestPainType'>"
      ]
     },
     "execution_count": 54,
     "metadata": {},
     "output_type": "execute_result"
    },
    {
     "data": {
      "image/png": "[encoded data removed]",
      "text/plain": [
       "<Figure size 640x480 with 1 Axes>"
      ]
     },
     "metadata": {},
     "output_type": "display_data"
    }
   ],
   "source": [
    "chestPainType_counts.plot(kind='bar')"
   ]
  },
  {
   "cell_type": "markdown",
   "metadata": {},
   "source": [
    "- ASY is the most common type of pain in the chest "
   ]
  },
  {
   "cell_type": "code",
   "execution_count": 55,
   "metadata": {
    "execution": {
     "iopub.execute_input": "2024-08-11T19:52:48.983684Z",
     "iopub.status.busy": "2024-08-11T19:52:48.982907Z",
     "iopub.status.idle": "2024-08-11T19:52:49.136159Z",
     "shell.execute_reply": "2024-08-11T19:52:49.134594Z",
     "shell.execute_reply.started": "2024-08-11T19:52:48.983648Z"
    }
   },
   "outputs": [
    {
     "data": {
      "text/plain": [
       "<Axes: ylabel='count'>"
      ]
     },
     "execution_count": 55,
     "metadata": {},
     "output_type": "execute_result"
    },
    {
     "data": {
      "image/png": "[encoded data removed]",
      "text/plain": [
       "<Figure size 640x480 with 1 Axes>"
      ]
     },
     "metadata": {},
     "output_type": "display_data"
    }
   ],
   "source": [
    "chestPainType_counts.plot(kind='pie')"
   ]
  },
  {
   "cell_type": "markdown",
   "metadata": {},
   "source": [
    "### RstingESG analysis"
   ]
  },
  {
   "cell_type": "code",
   "execution_count": 56,
   "metadata": {
    "execution": {
     "iopub.execute_input": "2024-08-11T19:52:49.139946Z",
     "iopub.status.busy": "2024-08-11T19:52:49.138261Z",
     "iopub.status.idle": "2024-08-11T19:52:49.155485Z",
     "shell.execute_reply": "2024-08-11T19:52:49.154296Z",
     "shell.execute_reply.started": "2024-08-11T19:52:49.139899Z"
    }
   },
   "outputs": [
    {
     "data": {
      "text/html": [
       "<div>\n",
       "<style scoped>\n",
       "    .dataframe tbody tr th:only-of-type {\n",
       "        vertical-align: middle;\n",
       "    }\n",
       "\n",
       "    .dataframe tbody tr th {\n",
       "        vertical-align: top;\n",
       "    }\n",
       "\n",
       "    .dataframe thead th {\n",
       "        text-align: right;\n",
       "    }\n",
       "</style>\n",
       "<table border=\"1\" class=\"dataframe\">\n",
       "  <thead>\n",
       "    <tr style=\"text-align: right;\">\n",
       "      <th></th>\n",
       "      <th>Frequency</th>\n",
       "      <th>Percentage %</th>\n",
       "    </tr>\n",
       "    <tr>\n",
       "      <th>RestingECG</th>\n",
       "      <th></th>\n",
       "      <th></th>\n",
       "    </tr>\n",
       "  </thead>\n",
       "  <tbody>\n",
       "    <tr>\n",
       "      <th>Normal</th>\n",
       "      <td>552</td>\n",
       "      <td>60.130719</td>\n",
       "    </tr>\n",
       "    <tr>\n",
       "      <th>LVH</th>\n",
       "      <td>188</td>\n",
       "      <td>20.479303</td>\n",
       "    </tr>\n",
       "    <tr>\n",
       "      <th>ST</th>\n",
       "      <td>178</td>\n",
       "      <td>19.389978</td>\n",
       "    </tr>\n",
       "  </tbody>\n",
       "</table>\n",
       "</div>"
      ],
      "text/plain": [
       "            Frequency  Percentage %\n",
       "RestingECG                         \n",
       "Normal            552     60.130719\n",
       "LVH               188     20.479303\n",
       "ST                178     19.389978"
      ]
     },
     "execution_count": 56,
     "metadata": {},
     "output_type": "execute_result"
    }
   ],
   "source": [
    "RestingESG_counts=df['RestingECG'].value_counts()\n",
    "RestingESG_percent=df['RestingECG'].value_counts(normalize=True)*100\n",
    "freq_table3=pd.DataFrame({'Frequency':RestingESG_counts,'Percentage %':RestingESG_percent})\n",
    "freq_table3"
   ]
  },
  {
   "cell_type": "code",
   "execution_count": 57,
   "metadata": {
    "execution": {
     "iopub.execute_input": "2024-08-11T19:52:49.157898Z",
     "iopub.status.busy": "2024-08-11T19:52:49.157229Z",
     "iopub.status.idle": "2024-08-11T19:52:49.392642Z",
     "shell.execute_reply": "2024-08-11T19:52:49.391314Z",
     "shell.execute_reply.started": "2024-08-11T19:52:49.157832Z"
    }
   },
   "outputs": [
    {
     "data": {
      "text/plain": [
       "<Axes: xlabel='RestingECG'>"
      ]
     },
     "execution_count": 57,
     "metadata": {},
     "output_type": "execute_result"
    },
    {
     "data": {
      "image/png": "[encoded data removed]",
      "text/plain": [
       "<Figure size 640x480 with 1 Axes>"
      ]
     },
     "metadata": {},
     "output_type": "display_data"
    }
   ],
   "source": [
    "RestingESG_counts.plot(kind='bar')"
   ]
  },
  {
   "cell_type": "markdown",
   "metadata": {},
   "source": [
    "- Most people are normal"
   ]
  },
  {
   "cell_type": "code",
   "execution_count": 58,
   "metadata": {
    "execution": {
     "iopub.execute_input": "2024-08-11T19:52:49.394707Z",
     "iopub.status.busy": "2024-08-11T19:52:49.394264Z",
     "iopub.status.idle": "2024-08-11T19:52:49.540131Z",
     "shell.execute_reply": "2024-08-11T19:52:49.538347Z",
     "shell.execute_reply.started": "2024-08-11T19:52:49.394666Z"
    }
   },
   "outputs": [
    {
     "data": {
      "text/plain": [
       "<Axes: ylabel='count'>"
      ]
     },
     "execution_count": 58,
     "metadata": {},
     "output_type": "execute_result"
    },
    {
     "data": {
      "image/png": "[encoded data removed]",
      "text/plain": [
       "<Figure size 640x480 with 1 Axes>"
      ]
     },
     "metadata": {},
     "output_type": "display_data"
    }
   ],
   "source": [
    "RestingESG_counts.plot(kind='pie')"
   ]
  },
  {
   "cell_type": "markdown",
   "metadata": {},
   "source": [
    "### ExerciseAngina analysis"
   ]
  },
  {
   "cell_type": "code",
   "execution_count": 59,
   "metadata": {
    "execution": {
     "iopub.execute_input": "2024-08-11T19:52:49.547030Z",
     "iopub.status.busy": "2024-08-11T19:52:49.545801Z",
     "iopub.status.idle": "2024-08-11T19:52:49.573047Z",
     "shell.execute_reply": "2024-08-11T19:52:49.571203Z",
     "shell.execute_reply.started": "2024-08-11T19:52:49.546967Z"
    }
   },
   "outputs": [
    {
     "data": {
      "text/html": [
       "<div>\n",
       "<style scoped>\n",
       "    .dataframe tbody tr th:only-of-type {\n",
       "        vertical-align: middle;\n",
       "    }\n",
       "\n",
       "    .dataframe tbody tr th {\n",
       "        vertical-align: top;\n",
       "    }\n",
       "\n",
       "    .dataframe thead th {\n",
       "        text-align: right;\n",
       "    }\n",
       "</style>\n",
       "<table border=\"1\" class=\"dataframe\">\n",
       "  <thead>\n",
       "    <tr style=\"text-align: right;\">\n",
       "      <th></th>\n",
       "      <th>Frequency</th>\n",
       "      <th>Percentage %</th>\n",
       "    </tr>\n",
       "    <tr>\n",
       "      <th>ExerciseAngina</th>\n",
       "      <th></th>\n",
       "      <th></th>\n",
       "    </tr>\n",
       "  </thead>\n",
       "  <tbody>\n",
       "    <tr>\n",
       "      <th>N</th>\n",
       "      <td>547</td>\n",
       "      <td>59.586057</td>\n",
       "    </tr>\n",
       "    <tr>\n",
       "      <th>Y</th>\n",
       "      <td>371</td>\n",
       "      <td>40.413943</td>\n",
       "    </tr>\n",
       "  </tbody>\n",
       "</table>\n",
       "</div>"
      ],
      "text/plain": [
       "                Frequency  Percentage %\n",
       "ExerciseAngina                         \n",
       "N                     547     59.586057\n",
       "Y                     371     40.413943"
      ]
     },
     "execution_count": 59,
     "metadata": {},
     "output_type": "execute_result"
    }
   ],
   "source": [
    "ExerciseAngina_counts=df['ExerciseAngina'].value_counts()\n",
    "ExerciseAngina_percent=df['ExerciseAngina'].value_counts(normalize=True)*100\n",
    "freq_table4=pd.DataFrame({'Frequency':ExerciseAngina_counts,'Percentage %':ExerciseAngina_percent})\n",
    "freq_table4"
   ]
  },
  {
   "cell_type": "code",
   "execution_count": 60,
   "metadata": {
    "execution": {
     "iopub.execute_input": "2024-08-11T19:52:49.576578Z",
     "iopub.status.busy": "2024-08-11T19:52:49.575962Z",
     "iopub.status.idle": "2024-08-11T19:52:49.835281Z",
     "shell.execute_reply": "2024-08-11T19:52:49.833958Z",
     "shell.execute_reply.started": "2024-08-11T19:52:49.576526Z"
    }
   },
   "outputs": [
    {
     "data": {
      "text/plain": [
       "<Axes: xlabel='ExerciseAngina'>"
      ]
     },
     "execution_count": 60,
     "metadata": {},
     "output_type": "execute_result"
    },
    {
     "data": {
      "image/png": "[encoded data removed]",
      "text/plain": [
       "<Figure size 640x480 with 1 Axes>"
      ]
     },
     "metadata": {},
     "output_type": "display_data"
    }
   ],
   "source": [
    "ExerciseAngina_counts.plot(kind='bar')"
   ]
  },
  {
   "cell_type": "markdown",
   "metadata": {},
   "source": [
    "- People who don't suffer from angina more than those who do"
   ]
  },
  {
   "cell_type": "code",
   "execution_count": 61,
   "metadata": {
    "execution": {
     "iopub.execute_input": "2024-08-11T19:52:49.837289Z",
     "iopub.status.busy": "2024-08-11T19:52:49.836822Z",
     "iopub.status.idle": "2024-08-11T19:52:49.968537Z",
     "shell.execute_reply": "2024-08-11T19:52:49.967049Z",
     "shell.execute_reply.started": "2024-08-11T19:52:49.837245Z"
    }
   },
   "outputs": [
    {
     "data": {
      "text/plain": [
       "<Axes: ylabel='count'>"
      ]
     },
     "execution_count": 61,
     "metadata": {},
     "output_type": "execute_result"
    },
    {
     "data": {
      "image/png": "[encoded data removed]",
      "text/plain": [
       "<Figure size 640x480 with 1 Axes>"
      ]
     },
     "metadata": {},
     "output_type": "display_data"
    }
   ],
   "source": [
    "ExerciseAngina_counts.plot(kind='pie')"
   ]
  },
  {
   "cell_type": "markdown",
   "metadata": {},
   "source": [
    "### ST slope analysis"
   ]
  },
  {
   "cell_type": "code",
   "execution_count": 62,
   "metadata": {
    "execution": {
     "iopub.execute_input": "2024-08-11T19:52:49.971356Z",
     "iopub.status.busy": "2024-08-11T19:52:49.970540Z",
     "iopub.status.idle": "2024-08-11T19:52:49.992894Z",
     "shell.execute_reply": "2024-08-11T19:52:49.991601Z",
     "shell.execute_reply.started": "2024-08-11T19:52:49.971301Z"
    }
   },
   "outputs": [
    {
     "data": {
      "text/html": [
       "<div>\n",
       "<style scoped>\n",
       "    .dataframe tbody tr th:only-of-type {\n",
       "        vertical-align: middle;\n",
       "    }\n",
       "\n",
       "    .dataframe tbody tr th {\n",
       "        vertical-align: top;\n",
       "    }\n",
       "\n",
       "    .dataframe thead th {\n",
       "        text-align: right;\n",
       "    }\n",
       "</style>\n",
       "<table border=\"1\" class=\"dataframe\">\n",
       "  <thead>\n",
       "    <tr style=\"text-align: right;\">\n",
       "      <th></th>\n",
       "      <th>Frequency</th>\n",
       "      <th>Percentage %</th>\n",
       "    </tr>\n",
       "    <tr>\n",
       "      <th>ST_Slope</th>\n",
       "      <th></th>\n",
       "      <th></th>\n",
       "    </tr>\n",
       "  </thead>\n",
       "  <tbody>\n",
       "    <tr>\n",
       "      <th>Flat</th>\n",
       "      <td>460</td>\n",
       "      <td>50.108932</td>\n",
       "    </tr>\n",
       "    <tr>\n",
       "      <th>Up</th>\n",
       "      <td>395</td>\n",
       "      <td>43.028322</td>\n",
       "    </tr>\n",
       "    <tr>\n",
       "      <th>Down</th>\n",
       "      <td>63</td>\n",
       "      <td>6.862745</td>\n",
       "    </tr>\n",
       "  </tbody>\n",
       "</table>\n",
       "</div>"
      ],
      "text/plain": [
       "          Frequency  Percentage %\n",
       "ST_Slope                         \n",
       "Flat            460     50.108932\n",
       "Up              395     43.028322\n",
       "Down             63      6.862745"
      ]
     },
     "execution_count": 62,
     "metadata": {},
     "output_type": "execute_result"
    }
   ],
   "source": [
    "ST_counts=df['ST_Slope'].value_counts()\n",
    "ST_percent=df['ST_Slope'].value_counts(normalize=True)*100\n",
    "freq_table5=pd.DataFrame({'Frequency':ST_counts,'Percentage %':ST_percent})\n",
    "freq_table5"
   ]
  },
  {
   "cell_type": "code",
   "execution_count": 63,
   "metadata": {
    "execution": {
     "iopub.execute_input": "2024-08-11T19:52:49.996382Z",
     "iopub.status.busy": "2024-08-11T19:52:49.995302Z",
     "iopub.status.idle": "2024-08-11T19:52:50.190488Z",
     "shell.execute_reply": "2024-08-11T19:52:50.189198Z",
     "shell.execute_reply.started": "2024-08-11T19:52:49.996333Z"
    }
   },
   "outputs": [
    {
     "data": {
      "text/plain": [
       "<Axes: xlabel='ST_Slope'>"
      ]
     },
     "execution_count": 63,
     "metadata": {},
     "output_type": "execute_result"
    },
    {
     "data": {
      "image/png": "[encoded data removed]",
      "text/plain": [
       "<Figure size 640x480 with 1 Axes>"
      ]
     },
     "metadata": {},
     "output_type": "display_data"
    }
   ],
   "source": [
    "ST_counts.plot(kind='bar')"
   ]
  },
  {
   "cell_type": "code",
   "execution_count": 64,
   "metadata": {
    "execution": {
     "iopub.execute_input": "2024-08-11T19:52:50.192271Z",
     "iopub.status.busy": "2024-08-11T19:52:50.191929Z",
     "iopub.status.idle": "2024-08-11T19:52:50.521059Z",
     "shell.execute_reply": "2024-08-11T19:52:50.519221Z",
     "shell.execute_reply.started": "2024-08-11T19:52:50.192240Z"
    }
   },
   "outputs": [
    {
     "data": {
      "text/plain": [
       "<Axes: ylabel='count'>"
      ]
     },
     "execution_count": 64,
     "metadata": {},
     "output_type": "execute_result"
    },
    {
     "data": {
      "image/png": "[encoded data removed]",
      "text/plain": [
       "<Figure size 640x480 with 1 Axes>"
      ]
     },
     "metadata": {},
     "output_type": "display_data"
    }
   ],
   "source": [
    "ST_counts.plot(kind='pie')"
   ]
  },
  {
   "cell_type": "markdown",
   "metadata": {},
   "source": [
    "### Fasting blood sugar"
   ]
  },
  {
   "cell_type": "code",
   "execution_count": 65,
   "metadata": {
    "execution": {
     "iopub.execute_input": "2024-08-11T19:52:50.524189Z",
     "iopub.status.busy": "2024-08-11T19:52:50.523327Z",
     "iopub.status.idle": "2024-08-11T19:52:50.549178Z",
     "shell.execute_reply": "2024-08-11T19:52:50.547149Z",
     "shell.execute_reply.started": "2024-08-11T19:52:50.524128Z"
    }
   },
   "outputs": [
    {
     "data": {
      "text/html": [
       "<div>\n",
       "<style scoped>\n",
       "    .dataframe tbody tr th:only-of-type {\n",
       "        vertical-align: middle;\n",
       "    }\n",
       "\n",
       "    .dataframe tbody tr th {\n",
       "        vertical-align: top;\n",
       "    }\n",
       "\n",
       "    .dataframe thead th {\n",
       "        text-align: right;\n",
       "    }\n",
       "</style>\n",
       "<table border=\"1\" class=\"dataframe\">\n",
       "  <thead>\n",
       "    <tr style=\"text-align: right;\">\n",
       "      <th></th>\n",
       "      <th>Frequency</th>\n",
       "      <th>Percentage %</th>\n",
       "    </tr>\n",
       "    <tr>\n",
       "      <th>FastingBS</th>\n",
       "      <th></th>\n",
       "      <th></th>\n",
       "    </tr>\n",
       "  </thead>\n",
       "  <tbody>\n",
       "    <tr>\n",
       "      <th>0</th>\n",
       "      <td>704</td>\n",
       "      <td>76.688453</td>\n",
       "    </tr>\n",
       "    <tr>\n",
       "      <th>1</th>\n",
       "      <td>214</td>\n",
       "      <td>23.311547</td>\n",
       "    </tr>\n",
       "  </tbody>\n",
       "</table>\n",
       "</div>"
      ],
      "text/plain": [
       "           Frequency  Percentage %\n",
       "FastingBS                         \n",
       "0                704     76.688453\n",
       "1                214     23.311547"
      ]
     },
     "execution_count": 65,
     "metadata": {},
     "output_type": "execute_result"
    }
   ],
   "source": [
    "FastingBloodSugar_count=df['FastingBS'].value_counts()\n",
    "FastingBloodSugar_percent=df['FastingBS'].value_counts(normalize=True)*100\n",
    "freq_table6=pd.DataFrame({'Frequency':FastingBloodSugar_count,'Percentage %':FastingBloodSugar_percent})\n",
    "freq_table6"
   ]
  },
  {
   "cell_type": "code",
   "execution_count": 66,
   "metadata": {
    "execution": {
     "iopub.execute_input": "2024-08-11T19:52:50.552978Z",
     "iopub.status.busy": "2024-08-11T19:52:50.551907Z",
     "iopub.status.idle": "2024-08-11T19:52:50.599532Z",
     "shell.execute_reply": "2024-08-11T19:52:50.598496Z",
     "shell.execute_reply.started": "2024-08-11T19:52:50.552917Z"
    }
   },
   "outputs": [
    {
     "data": {
      "text/html": [
       "<div>\n",
       "<style scoped>\n",
       "    .dataframe tbody tr th:only-of-type {\n",
       "        vertical-align: middle;\n",
       "    }\n",
       "\n",
       "    .dataframe tbody tr th {\n",
       "        vertical-align: top;\n",
       "    }\n",
       "\n",
       "    .dataframe thead th {\n",
       "        text-align: right;\n",
       "    }\n",
       "</style>\n",
       "<table border=\"1\" class=\"dataframe\">\n",
       "  <thead>\n",
       "    <tr style=\"text-align: right;\">\n",
       "      <th></th>\n",
       "      <th>Age</th>\n",
       "      <th>RestingBP</th>\n",
       "      <th>Cholesterol</th>\n",
       "      <th>FastingBS</th>\n",
       "      <th>MaxHR</th>\n",
       "      <th>Oldpeak</th>\n",
       "      <th>HeartDisease</th>\n",
       "    </tr>\n",
       "  </thead>\n",
       "  <tbody>\n",
       "    <tr>\n",
       "      <th>count</th>\n",
       "      <td>918.000000</td>\n",
       "      <td>918.000000</td>\n",
       "      <td>918.000000</td>\n",
       "      <td>918.000000</td>\n",
       "      <td>918.000000</td>\n",
       "      <td>918.000000</td>\n",
       "      <td>918.000000</td>\n",
       "    </tr>\n",
       "    <tr>\n",
       "      <th>mean</th>\n",
       "      <td>53.510893</td>\n",
       "      <td>132.396514</td>\n",
       "      <td>198.799564</td>\n",
       "      <td>0.233115</td>\n",
       "      <td>136.809368</td>\n",
       "      <td>0.887364</td>\n",
       "      <td>0.553377</td>\n",
       "    </tr>\n",
       "    <tr>\n",
       "      <th>std</th>\n",
       "      <td>9.432617</td>\n",
       "      <td>18.514154</td>\n",
       "      <td>109.384145</td>\n",
       "      <td>0.423046</td>\n",
       "      <td>25.460334</td>\n",
       "      <td>1.066570</td>\n",
       "      <td>0.497414</td>\n",
       "    </tr>\n",
       "    <tr>\n",
       "      <th>min</th>\n",
       "      <td>28.000000</td>\n",
       "      <td>0.000000</td>\n",
       "      <td>0.000000</td>\n",
       "      <td>0.000000</td>\n",
       "      <td>60.000000</td>\n",
       "      <td>-2.600000</td>\n",
       "      <td>0.000000</td>\n",
       "    </tr>\n",
       "    <tr>\n",
       "      <th>25%</th>\n",
       "      <td>47.000000</td>\n",
       "      <td>120.000000</td>\n",
       "      <td>173.250000</td>\n",
       "      <td>0.000000</td>\n",
       "      <td>120.000000</td>\n",
       "      <td>0.000000</td>\n",
       "      <td>0.000000</td>\n",
       "    </tr>\n",
       "    <tr>\n",
       "      <th>50%</th>\n",
       "      <td>54.000000</td>\n",
       "      <td>130.000000</td>\n",
       "      <td>223.000000</td>\n",
       "      <td>0.000000</td>\n",
       "      <td>138.000000</td>\n",
       "      <td>0.600000</td>\n",
       "      <td>1.000000</td>\n",
       "    </tr>\n",
       "    <tr>\n",
       "      <th>75%</th>\n",
       "      <td>60.000000</td>\n",
       "      <td>140.000000</td>\n",
       "      <td>267.000000</td>\n",
       "      <td>0.000000</td>\n",
       "      <td>156.000000</td>\n",
       "      <td>1.500000</td>\n",
       "      <td>1.000000</td>\n",
       "    </tr>\n",
       "    <tr>\n",
       "      <th>max</th>\n",
       "      <td>77.000000</td>\n",
       "      <td>200.000000</td>\n",
       "      <td>603.000000</td>\n",
       "      <td>1.000000</td>\n",
       "      <td>202.000000</td>\n",
       "      <td>6.200000</td>\n",
       "      <td>1.000000</td>\n",
       "    </tr>\n",
       "  </tbody>\n",
       "</table>\n",
       "</div>"
      ],
      "text/plain": [
       "              Age   RestingBP  Cholesterol   FastingBS       MaxHR  \\\n",
       "count  918.000000  918.000000   918.000000  918.000000  918.000000   \n",
       "mean    53.510893  132.396514   198.799564    0.233115  136.809368   \n",
       "std      9.432617   18.514154   109.384145    0.423046   25.460334   \n",
       "min     28.000000    0.000000     0.000000    0.000000   60.000000   \n",
       "25%     47.000000  120.000000   173.250000    0.000000  120.000000   \n",
       "50%     54.000000  130.000000   223.000000    0.000000  138.000000   \n",
       "75%     60.000000  140.000000   267.000000    0.000000  156.000000   \n",
       "max     77.000000  200.000000   603.000000    1.000000  202.000000   \n",
       "\n",
       "          Oldpeak  HeartDisease  \n",
       "count  918.000000    918.000000  \n",
       "mean     0.887364      0.553377  \n",
       "std      1.066570      0.497414  \n",
       "min     -2.600000      0.000000  \n",
       "25%      0.000000      0.000000  \n",
       "50%      0.600000      1.000000  \n",
       "75%      1.500000      1.000000  \n",
       "max      6.200000      1.000000  "
      ]
     },
     "execution_count": 66,
     "metadata": {},
     "output_type": "execute_result"
    }
   ],
   "source": [
    "df.describe()\n"
   ]
  },
  {
   "cell_type": "markdown",
   "metadata": {},
   "source": [
    "### Age"
   ]
  },
  {
   "cell_type": "code",
   "execution_count": 67,
   "metadata": {
    "execution": {
     "iopub.execute_input": "2024-08-11T19:52:50.601208Z",
     "iopub.status.busy": "2024-08-11T19:52:50.600821Z",
     "iopub.status.idle": "2024-08-11T19:52:50.613986Z",
     "shell.execute_reply": "2024-08-11T19:52:50.612471Z",
     "shell.execute_reply.started": "2024-08-11T19:52:50.601176Z"
    }
   },
   "outputs": [
    {
     "data": {
      "text/plain": [
       "count    918.000000\n",
       "mean      53.510893\n",
       "std        9.432617\n",
       "min       28.000000\n",
       "25%       47.000000\n",
       "50%       54.000000\n",
       "75%       60.000000\n",
       "max       77.000000\n",
       "Name: Age, dtype: float64"
      ]
     },
     "execution_count": 67,
     "metadata": {},
     "output_type": "execute_result"
    }
   ],
   "source": [
    "df['Age'].describe()"
   ]
  },
  {
   "cell_type": "code",
   "execution_count": 68,
   "metadata": {
    "execution": {
     "iopub.execute_input": "2024-08-11T19:52:50.615922Z",
     "iopub.status.busy": "2024-08-11T19:52:50.615518Z",
     "iopub.status.idle": "2024-08-11T19:52:50.911455Z",
     "shell.execute_reply": "2024-08-11T19:52:50.910088Z",
     "shell.execute_reply.started": "2024-08-11T19:52:50.615860Z"
    }
   },
   "outputs": [
    {
     "data": {
      "text/plain": [
       "<Axes: ylabel='Frequency'>"
      ]
     },
     "execution_count": 68,
     "metadata": {},
     "output_type": "execute_result"
    },
    {
     "data": {
      "image/png": "[encoded data removed]",
      "text/plain": [
       "<Figure size 640x480 with 1 Axes>"
      ]
     },
     "metadata": {},
     "output_type": "display_data"
    }
   ],
   "source": [
    "df['Age'].plot(kind='hist')"
   ]
  },
  {
   "cell_type": "markdown",
   "metadata": {},
   "source": [
    "- Most ages between 50 to 60"
   ]
  },
  {
   "cell_type": "markdown",
   "metadata": {},
   "source": [
    "### Resting blood pressure"
   ]
  },
  {
   "cell_type": "code",
   "execution_count": 69,
   "metadata": {
    "execution": {
     "iopub.execute_input": "2024-08-11T19:52:50.913705Z",
     "iopub.status.busy": "2024-08-11T19:52:50.913312Z",
     "iopub.status.idle": "2024-08-11T19:52:50.926398Z",
     "shell.execute_reply": "2024-08-11T19:52:50.924983Z",
     "shell.execute_reply.started": "2024-08-11T19:52:50.913662Z"
    }
   },
   "outputs": [
    {
     "data": {
      "text/plain": [
       "count    918.000000\n",
       "mean     132.396514\n",
       "std       18.514154\n",
       "min        0.000000\n",
       "25%      120.000000\n",
       "50%      130.000000\n",
       "75%      140.000000\n",
       "max      200.000000\n",
       "Name: RestingBP, dtype: float64"
      ]
     },
     "execution_count": 69,
     "metadata": {},
     "output_type": "execute_result"
    }
   ],
   "source": [
    "df['RestingBP'].describe()"
   ]
  },
  {
   "cell_type": "code",
   "execution_count": 70,
   "metadata": {
    "execution": {
     "iopub.execute_input": "2024-08-11T19:52:50.934048Z",
     "iopub.status.busy": "2024-08-11T19:52:50.932851Z",
     "iopub.status.idle": "2024-08-11T19:52:51.253834Z",
     "shell.execute_reply": "2024-08-11T19:52:51.252593Z",
     "shell.execute_reply.started": "2024-08-11T19:52:50.934008Z"
    }
   },
   "outputs": [
    {
     "data": {
      "text/plain": [
       "<Axes: ylabel='Frequency'>"
      ]
     },
     "execution_count": 70,
     "metadata": {},
     "output_type": "execute_result"
    },
    {
     "data": {
      "image/png": "[encoded data removed]",
      "text/plain": [
       "<Figure size 640x480 with 1 Axes>"
      ]
     },
     "metadata": {},
     "output_type": "display_data"
    }
   ],
   "source": [
    "df['RestingBP'].plot(kind='hist')"
   ]
  },
  {
   "cell_type": "markdown",
   "metadata": {},
   "source": [
    "- Resting blood pressure average between 125 to 160"
   ]
  },
  {
   "cell_type": "markdown",
   "metadata": {},
   "source": [
    "### Detect RestingBP outliers"
   ]
  },
  {
   "cell_type": "code",
   "execution_count": 71,
   "metadata": {
    "execution": {
     "iopub.execute_input": "2024-08-11T19:52:51.256047Z",
     "iopub.status.busy": "2024-08-11T19:52:51.255650Z",
     "iopub.status.idle": "2024-08-11T19:52:51.266571Z",
     "shell.execute_reply": "2024-08-11T19:52:51.265262Z",
     "shell.execute_reply.started": "2024-08-11T19:52:51.256015Z"
    }
   },
   "outputs": [
    {
     "name": "stdout",
     "output_type": "stream",
     "text": [
      "90.0\n",
      "170.0\n"
     ]
    }
   ],
   "source": [
    "Q1 = df['RestingBP'].quantile(0.25)\n",
    "Q3 = df['RestingBP'].quantile(0.75)\n",
    "IQR = Q3 - Q1\n",
    "lower_bound = Q1 - 1.5 * IQR\n",
    "upper_bound = Q3 + 1.5 * IQR\n",
    "print(lower_bound)\n",
    "print(upper_bound)"
   ]
  },
  {
   "cell_type": "code",
   "execution_count": 72,
   "metadata": {
    "execution": {
     "iopub.execute_input": "2024-08-11T19:52:51.268963Z",
     "iopub.status.busy": "2024-08-11T19:52:51.268363Z",
     "iopub.status.idle": "2024-08-11T19:52:51.299099Z",
     "shell.execute_reply": "2024-08-11T19:52:51.297807Z",
     "shell.execute_reply.started": "2024-08-11T19:52:51.268924Z"
    }
   },
   "outputs": [
    {
     "data": {
      "text/html": [
       "<div>\n",
       "<style scoped>\n",
       "    .dataframe tbody tr th:only-of-type {\n",
       "        vertical-align: middle;\n",
       "    }\n",
       "\n",
       "    .dataframe tbody tr th {\n",
       "        vertical-align: top;\n",
       "    }\n",
       "\n",
       "    .dataframe thead th {\n",
       "        text-align: right;\n",
       "    }\n",
       "</style>\n",
       "<table border=\"1\" class=\"dataframe\">\n",
       "  <thead>\n",
       "    <tr style=\"text-align: right;\">\n",
       "      <th></th>\n",
       "      <th>Age</th>\n",
       "      <th>Sex</th>\n",
       "      <th>ChestPainType</th>\n",
       "      <th>RestingBP</th>\n",
       "      <th>Cholesterol</th>\n",
       "      <th>FastingBS</th>\n",
       "      <th>RestingECG</th>\n",
       "      <th>MaxHR</th>\n",
       "      <th>ExerciseAngina</th>\n",
       "      <th>Oldpeak</th>\n",
       "      <th>ST_Slope</th>\n",
       "      <th>HeartDisease</th>\n",
       "    </tr>\n",
       "  </thead>\n",
       "  <tbody>\n",
       "    <tr>\n",
       "      <th>109</th>\n",
       "      <td>39</td>\n",
       "      <td>M</td>\n",
       "      <td>ATA</td>\n",
       "      <td>190</td>\n",
       "      <td>241</td>\n",
       "      <td>0</td>\n",
       "      <td>Normal</td>\n",
       "      <td>106</td>\n",
       "      <td>N</td>\n",
       "      <td>0.0</td>\n",
       "      <td>Up</td>\n",
       "      <td>0</td>\n",
       "    </tr>\n",
       "    <tr>\n",
       "      <th>123</th>\n",
       "      <td>58</td>\n",
       "      <td>F</td>\n",
       "      <td>ATA</td>\n",
       "      <td>180</td>\n",
       "      <td>393</td>\n",
       "      <td>0</td>\n",
       "      <td>Normal</td>\n",
       "      <td>110</td>\n",
       "      <td>Y</td>\n",
       "      <td>1.0</td>\n",
       "      <td>Flat</td>\n",
       "      <td>1</td>\n",
       "    </tr>\n",
       "    <tr>\n",
       "      <th>189</th>\n",
       "      <td>53</td>\n",
       "      <td>M</td>\n",
       "      <td>ASY</td>\n",
       "      <td>180</td>\n",
       "      <td>285</td>\n",
       "      <td>0</td>\n",
       "      <td>ST</td>\n",
       "      <td>120</td>\n",
       "      <td>Y</td>\n",
       "      <td>1.5</td>\n",
       "      <td>Flat</td>\n",
       "      <td>1</td>\n",
       "    </tr>\n",
       "    <tr>\n",
       "      <th>190</th>\n",
       "      <td>46</td>\n",
       "      <td>M</td>\n",
       "      <td>ASY</td>\n",
       "      <td>180</td>\n",
       "      <td>280</td>\n",
       "      <td>0</td>\n",
       "      <td>ST</td>\n",
       "      <td>120</td>\n",
       "      <td>N</td>\n",
       "      <td>0.0</td>\n",
       "      <td>Up</td>\n",
       "      <td>0</td>\n",
       "    </tr>\n",
       "    <tr>\n",
       "      <th>241</th>\n",
       "      <td>54</td>\n",
       "      <td>M</td>\n",
       "      <td>ASY</td>\n",
       "      <td>200</td>\n",
       "      <td>198</td>\n",
       "      <td>0</td>\n",
       "      <td>Normal</td>\n",
       "      <td>142</td>\n",
       "      <td>Y</td>\n",
       "      <td>2.0</td>\n",
       "      <td>Flat</td>\n",
       "      <td>1</td>\n",
       "    </tr>\n",
       "    <tr>\n",
       "      <th>274</th>\n",
       "      <td>45</td>\n",
       "      <td>F</td>\n",
       "      <td>ATA</td>\n",
       "      <td>180</td>\n",
       "      <td>295</td>\n",
       "      <td>0</td>\n",
       "      <td>Normal</td>\n",
       "      <td>180</td>\n",
       "      <td>N</td>\n",
       "      <td>0.0</td>\n",
       "      <td>Up</td>\n",
       "      <td>0</td>\n",
       "    </tr>\n",
       "    <tr>\n",
       "      <th>275</th>\n",
       "      <td>59</td>\n",
       "      <td>M</td>\n",
       "      <td>NAP</td>\n",
       "      <td>180</td>\n",
       "      <td>213</td>\n",
       "      <td>0</td>\n",
       "      <td>Normal</td>\n",
       "      <td>100</td>\n",
       "      <td>N</td>\n",
       "      <td>0.0</td>\n",
       "      <td>Up</td>\n",
       "      <td>0</td>\n",
       "    </tr>\n",
       "    <tr>\n",
       "      <th>278</th>\n",
       "      <td>57</td>\n",
       "      <td>F</td>\n",
       "      <td>ASY</td>\n",
       "      <td>180</td>\n",
       "      <td>347</td>\n",
       "      <td>0</td>\n",
       "      <td>ST</td>\n",
       "      <td>126</td>\n",
       "      <td>Y</td>\n",
       "      <td>0.8</td>\n",
       "      <td>Flat</td>\n",
       "      <td>0</td>\n",
       "    </tr>\n",
       "    <tr>\n",
       "      <th>314</th>\n",
       "      <td>53</td>\n",
       "      <td>M</td>\n",
       "      <td>ASY</td>\n",
       "      <td>80</td>\n",
       "      <td>0</td>\n",
       "      <td>0</td>\n",
       "      <td>Normal</td>\n",
       "      <td>141</td>\n",
       "      <td>Y</td>\n",
       "      <td>2.0</td>\n",
       "      <td>Down</td>\n",
       "      <td>0</td>\n",
       "    </tr>\n",
       "    <tr>\n",
       "      <th>365</th>\n",
       "      <td>64</td>\n",
       "      <td>F</td>\n",
       "      <td>ASY</td>\n",
       "      <td>200</td>\n",
       "      <td>0</td>\n",
       "      <td>0</td>\n",
       "      <td>Normal</td>\n",
       "      <td>140</td>\n",
       "      <td>Y</td>\n",
       "      <td>1.0</td>\n",
       "      <td>Flat</td>\n",
       "      <td>1</td>\n",
       "    </tr>\n",
       "    <tr>\n",
       "      <th>372</th>\n",
       "      <td>63</td>\n",
       "      <td>M</td>\n",
       "      <td>ASY</td>\n",
       "      <td>185</td>\n",
       "      <td>0</td>\n",
       "      <td>0</td>\n",
       "      <td>Normal</td>\n",
       "      <td>98</td>\n",
       "      <td>Y</td>\n",
       "      <td>0.0</td>\n",
       "      <td>Up</td>\n",
       "      <td>1</td>\n",
       "    </tr>\n",
       "    <tr>\n",
       "      <th>399</th>\n",
       "      <td>61</td>\n",
       "      <td>M</td>\n",
       "      <td>NAP</td>\n",
       "      <td>200</td>\n",
       "      <td>0</td>\n",
       "      <td>1</td>\n",
       "      <td>ST</td>\n",
       "      <td>70</td>\n",
       "      <td>N</td>\n",
       "      <td>0.0</td>\n",
       "      <td>Flat</td>\n",
       "      <td>1</td>\n",
       "    </tr>\n",
       "    <tr>\n",
       "      <th>411</th>\n",
       "      <td>54</td>\n",
       "      <td>M</td>\n",
       "      <td>ASY</td>\n",
       "      <td>180</td>\n",
       "      <td>0</td>\n",
       "      <td>1</td>\n",
       "      <td>Normal</td>\n",
       "      <td>150</td>\n",
       "      <td>N</td>\n",
       "      <td>1.5</td>\n",
       "      <td>Flat</td>\n",
       "      <td>1</td>\n",
       "    </tr>\n",
       "    <tr>\n",
       "      <th>423</th>\n",
       "      <td>60</td>\n",
       "      <td>M</td>\n",
       "      <td>NAP</td>\n",
       "      <td>180</td>\n",
       "      <td>0</td>\n",
       "      <td>0</td>\n",
       "      <td>ST</td>\n",
       "      <td>140</td>\n",
       "      <td>Y</td>\n",
       "      <td>1.5</td>\n",
       "      <td>Flat</td>\n",
       "      <td>0</td>\n",
       "    </tr>\n",
       "    <tr>\n",
       "      <th>449</th>\n",
       "      <td>55</td>\n",
       "      <td>M</td>\n",
       "      <td>NAP</td>\n",
       "      <td>0</td>\n",
       "      <td>0</td>\n",
       "      <td>0</td>\n",
       "      <td>Normal</td>\n",
       "      <td>155</td>\n",
       "      <td>N</td>\n",
       "      <td>1.5</td>\n",
       "      <td>Flat</td>\n",
       "      <td>1</td>\n",
       "    </tr>\n",
       "    <tr>\n",
       "      <th>475</th>\n",
       "      <td>59</td>\n",
       "      <td>M</td>\n",
       "      <td>ASY</td>\n",
       "      <td>178</td>\n",
       "      <td>0</td>\n",
       "      <td>1</td>\n",
       "      <td>LVH</td>\n",
       "      <td>120</td>\n",
       "      <td>Y</td>\n",
       "      <td>0.0</td>\n",
       "      <td>Flat</td>\n",
       "      <td>1</td>\n",
       "    </tr>\n",
       "    <tr>\n",
       "      <th>550</th>\n",
       "      <td>55</td>\n",
       "      <td>M</td>\n",
       "      <td>ASY</td>\n",
       "      <td>172</td>\n",
       "      <td>260</td>\n",
       "      <td>0</td>\n",
       "      <td>Normal</td>\n",
       "      <td>73</td>\n",
       "      <td>N</td>\n",
       "      <td>2.0</td>\n",
       "      <td>Flat</td>\n",
       "      <td>1</td>\n",
       "    </tr>\n",
       "    <tr>\n",
       "      <th>585</th>\n",
       "      <td>57</td>\n",
       "      <td>M</td>\n",
       "      <td>ATA</td>\n",
       "      <td>180</td>\n",
       "      <td>285</td>\n",
       "      <td>1</td>\n",
       "      <td>ST</td>\n",
       "      <td>120</td>\n",
       "      <td>N</td>\n",
       "      <td>0.8</td>\n",
       "      <td>Flat</td>\n",
       "      <td>1</td>\n",
       "    </tr>\n",
       "    <tr>\n",
       "      <th>592</th>\n",
       "      <td>61</td>\n",
       "      <td>M</td>\n",
       "      <td>ASY</td>\n",
       "      <td>190</td>\n",
       "      <td>287</td>\n",
       "      <td>1</td>\n",
       "      <td>LVH</td>\n",
       "      <td>150</td>\n",
       "      <td>Y</td>\n",
       "      <td>2.0</td>\n",
       "      <td>Down</td>\n",
       "      <td>1</td>\n",
       "    </tr>\n",
       "    <tr>\n",
       "      <th>673</th>\n",
       "      <td>59</td>\n",
       "      <td>F</td>\n",
       "      <td>ASY</td>\n",
       "      <td>174</td>\n",
       "      <td>249</td>\n",
       "      <td>0</td>\n",
       "      <td>Normal</td>\n",
       "      <td>143</td>\n",
       "      <td>Y</td>\n",
       "      <td>0.0</td>\n",
       "      <td>Flat</td>\n",
       "      <td>1</td>\n",
       "    </tr>\n",
       "    <tr>\n",
       "      <th>702</th>\n",
       "      <td>59</td>\n",
       "      <td>M</td>\n",
       "      <td>TA</td>\n",
       "      <td>178</td>\n",
       "      <td>270</td>\n",
       "      <td>0</td>\n",
       "      <td>LVH</td>\n",
       "      <td>145</td>\n",
       "      <td>N</td>\n",
       "      <td>4.2</td>\n",
       "      <td>Down</td>\n",
       "      <td>0</td>\n",
       "    </tr>\n",
       "    <tr>\n",
       "      <th>725</th>\n",
       "      <td>55</td>\n",
       "      <td>F</td>\n",
       "      <td>ASY</td>\n",
       "      <td>180</td>\n",
       "      <td>327</td>\n",
       "      <td>0</td>\n",
       "      <td>ST</td>\n",
       "      <td>117</td>\n",
       "      <td>Y</td>\n",
       "      <td>3.4</td>\n",
       "      <td>Flat</td>\n",
       "      <td>1</td>\n",
       "    </tr>\n",
       "    <tr>\n",
       "      <th>732</th>\n",
       "      <td>56</td>\n",
       "      <td>F</td>\n",
       "      <td>ASY</td>\n",
       "      <td>200</td>\n",
       "      <td>288</td>\n",
       "      <td>1</td>\n",
       "      <td>LVH</td>\n",
       "      <td>133</td>\n",
       "      <td>Y</td>\n",
       "      <td>4.0</td>\n",
       "      <td>Down</td>\n",
       "      <td>1</td>\n",
       "    </tr>\n",
       "    <tr>\n",
       "      <th>759</th>\n",
       "      <td>54</td>\n",
       "      <td>M</td>\n",
       "      <td>ATA</td>\n",
       "      <td>192</td>\n",
       "      <td>283</td>\n",
       "      <td>0</td>\n",
       "      <td>LVH</td>\n",
       "      <td>195</td>\n",
       "      <td>N</td>\n",
       "      <td>0.0</td>\n",
       "      <td>Up</td>\n",
       "      <td>1</td>\n",
       "    </tr>\n",
       "    <tr>\n",
       "      <th>774</th>\n",
       "      <td>66</td>\n",
       "      <td>F</td>\n",
       "      <td>ASY</td>\n",
       "      <td>178</td>\n",
       "      <td>228</td>\n",
       "      <td>1</td>\n",
       "      <td>Normal</td>\n",
       "      <td>165</td>\n",
       "      <td>Y</td>\n",
       "      <td>1.0</td>\n",
       "      <td>Flat</td>\n",
       "      <td>1</td>\n",
       "    </tr>\n",
       "    <tr>\n",
       "      <th>780</th>\n",
       "      <td>64</td>\n",
       "      <td>F</td>\n",
       "      <td>ASY</td>\n",
       "      <td>180</td>\n",
       "      <td>325</td>\n",
       "      <td>0</td>\n",
       "      <td>Normal</td>\n",
       "      <td>154</td>\n",
       "      <td>Y</td>\n",
       "      <td>0.0</td>\n",
       "      <td>Up</td>\n",
       "      <td>0</td>\n",
       "    </tr>\n",
       "    <tr>\n",
       "      <th>855</th>\n",
       "      <td>68</td>\n",
       "      <td>M</td>\n",
       "      <td>NAP</td>\n",
       "      <td>180</td>\n",
       "      <td>274</td>\n",
       "      <td>1</td>\n",
       "      <td>LVH</td>\n",
       "      <td>150</td>\n",
       "      <td>Y</td>\n",
       "      <td>1.6</td>\n",
       "      <td>Flat</td>\n",
       "      <td>1</td>\n",
       "    </tr>\n",
       "    <tr>\n",
       "      <th>880</th>\n",
       "      <td>52</td>\n",
       "      <td>M</td>\n",
       "      <td>NAP</td>\n",
       "      <td>172</td>\n",
       "      <td>199</td>\n",
       "      <td>1</td>\n",
       "      <td>Normal</td>\n",
       "      <td>162</td>\n",
       "      <td>N</td>\n",
       "      <td>0.5</td>\n",
       "      <td>Up</td>\n",
       "      <td>0</td>\n",
       "    </tr>\n",
       "  </tbody>\n",
       "</table>\n",
       "</div>"
      ],
      "text/plain": [
       "     Age Sex ChestPainType  RestingBP  Cholesterol  FastingBS RestingECG  \\\n",
       "109   39   M           ATA        190          241          0     Normal   \n",
       "123   58   F           ATA        180          393          0     Normal   \n",
       "189   53   M           ASY        180          285          0         ST   \n",
       "190   46   M           ASY        180          280          0         ST   \n",
       "241   54   M           ASY        200          198          0     Normal   \n",
       "274   45   F           ATA        180          295          0     Normal   \n",
       "275   59   M           NAP        180          213          0     Normal   \n",
       "278   57   F           ASY        180          347          0         ST   \n",
       "314   53   M           ASY         80            0          0     Normal   \n",
       "365   64   F           ASY        200            0          0     Normal   \n",
       "372   63   M           ASY        185            0          0     Normal   \n",
       "399   61   M           NAP        200            0          1         ST   \n",
       "411   54   M           ASY        180            0          1     Normal   \n",
       "423   60   M           NAP        180            0          0         ST   \n",
       "449   55   M           NAP          0            0          0     Normal   \n",
       "475   59   M           ASY        178            0          1        LVH   \n",
       "550   55   M           ASY        172          260          0     Normal   \n",
       "585   57   M           ATA        180          285          1         ST   \n",
       "592   61   M           ASY        190          287          1        LVH   \n",
       "673   59   F           ASY        174          249          0     Normal   \n",
       "702   59   M            TA        178          270          0        LVH   \n",
       "725   55   F           ASY        180          327          0         ST   \n",
       "732   56   F           ASY        200          288          1        LVH   \n",
       "759   54   M           ATA        192          283          0        LVH   \n",
       "774   66   F           ASY        178          228          1     Normal   \n",
       "780   64   F           ASY        180          325          0     Normal   \n",
       "855   68   M           NAP        180          274          1        LVH   \n",
       "880   52   M           NAP        172          199          1     Normal   \n",
       "\n",
       "     MaxHR ExerciseAngina  Oldpeak ST_Slope  HeartDisease  \n",
       "109    106              N      0.0       Up             0  \n",
       "123    110              Y      1.0     Flat             1  \n",
       "189    120              Y      1.5     Flat             1  \n",
       "190    120              N      0.0       Up             0  \n",
       "241    142              Y      2.0     Flat             1  \n",
       "274    180              N      0.0       Up             0  \n",
       "275    100              N      0.0       Up             0  \n",
       "278    126              Y      0.8     Flat             0  \n",
       "314    141              Y      2.0     Down             0  \n",
       "365    140              Y      1.0     Flat             1  \n",
       "372     98              Y      0.0       Up             1  \n",
       "399     70              N      0.0     Flat             1  \n",
       "411    150              N      1.5     Flat             1  \n",
       "423    140              Y      1.5     Flat             0  \n",
       "449    155              N      1.5     Flat             1  \n",
       "475    120              Y      0.0     Flat             1  \n",
       "550     73              N      2.0     Flat             1  \n",
       "585    120              N      0.8     Flat             1  \n",
       "592    150              Y      2.0     Down             1  \n",
       "673    143              Y      0.0     Flat             1  \n",
       "702    145              N      4.2     Down             0  \n",
       "725    117              Y      3.4     Flat             1  \n",
       "732    133              Y      4.0     Down             1  \n",
       "759    195              N      0.0       Up             1  \n",
       "774    165              Y      1.0     Flat             1  \n",
       "780    154              Y      0.0       Up             0  \n",
       "855    150              Y      1.6     Flat             1  \n",
       "880    162              N      0.5       Up             0  "
      ]
     },
     "execution_count": 72,
     "metadata": {},
     "output_type": "execute_result"
    }
   ],
   "source": [
    "RestingBP_outliers = df[(df['RestingBP'] < lower_bound) | (df['RestingBP'] > upper_bound)]\n",
    "RestingBP_outliers"
   ]
  },
  {
   "cell_type": "markdown",
   "metadata": {},
   "source": [
    "### Cholesterol"
   ]
  },
  {
   "cell_type": "code",
   "execution_count": 73,
   "metadata": {
    "execution": {
     "iopub.execute_input": "2024-08-11T19:52:51.301640Z",
     "iopub.status.busy": "2024-08-11T19:52:51.301255Z",
     "iopub.status.idle": "2024-08-11T19:52:51.314173Z",
     "shell.execute_reply": "2024-08-11T19:52:51.312722Z",
     "shell.execute_reply.started": "2024-08-11T19:52:51.301608Z"
    }
   },
   "outputs": [
    {
     "data": {
      "text/plain": [
       "count    918.000000\n",
       "mean     198.799564\n",
       "std      109.384145\n",
       "min        0.000000\n",
       "25%      173.250000\n",
       "50%      223.000000\n",
       "75%      267.000000\n",
       "max      603.000000\n",
       "Name: Cholesterol, dtype: float64"
      ]
     },
     "execution_count": 73,
     "metadata": {},
     "output_type": "execute_result"
    }
   ],
   "source": [
    "df['Cholesterol'].describe()"
   ]
  },
  {
   "cell_type": "code",
   "execution_count": 74,
   "metadata": {
    "execution": {
     "iopub.execute_input": "2024-08-11T19:52:51.317053Z",
     "iopub.status.busy": "2024-08-11T19:52:51.316082Z",
     "iopub.status.idle": "2024-08-11T19:52:51.676210Z",
     "shell.execute_reply": "2024-08-11T19:52:51.674967Z",
     "shell.execute_reply.started": "2024-08-11T19:52:51.317015Z"
    }
   },
   "outputs": [
    {
     "data": {
      "text/plain": [
       "<Axes: ylabel='Density'>"
      ]
     },
     "execution_count": 74,
     "metadata": {},
     "output_type": "execute_result"
    },
    {
     "data": {
      "image/png": "[encoded data removed]",
      "text/plain": [
       "<Figure size 640x480 with 1 Axes>"
      ]
     },
     "metadata": {},
     "output_type": "display_data"
    }
   ],
   "source": [
    "df['Cholesterol'].plot(kind='kde')"
   ]
  },
  {
   "cell_type": "markdown",
   "metadata": {},
   "source": [
    "#### Detect cholesterol outliers"
   ]
  },
  {
   "cell_type": "code",
   "execution_count": 75,
   "metadata": {
    "execution": {
     "iopub.execute_input": "2024-08-11T19:52:51.679000Z",
     "iopub.status.busy": "2024-08-11T19:52:51.677711Z",
     "iopub.status.idle": "2024-08-11T19:52:51.691694Z",
     "shell.execute_reply": "2024-08-11T19:52:51.690121Z",
     "shell.execute_reply.started": "2024-08-11T19:52:51.678950Z"
    }
   },
   "outputs": [
    {
     "name": "stdout",
     "output_type": "stream",
     "text": [
      "32.625\n",
      "407.625\n"
     ]
    }
   ],
   "source": [
    "Q1 = df['Cholesterol'].quantile(0.25)\n",
    "Q3 = df['Cholesterol'].quantile(0.75)\n",
    "IQR = Q3 - Q1\n",
    "lower_bound = Q1 - 1.5 * IQR\n",
    "upper_bound = Q3 + 1.5 * IQR\n",
    "print(lower_bound)\n",
    "print(upper_bound)"
   ]
  },
  {
   "cell_type": "code",
   "execution_count": 76,
   "metadata": {
    "execution": {
     "iopub.execute_input": "2024-08-11T19:52:51.694556Z",
     "iopub.status.busy": "2024-08-11T19:52:51.693848Z",
     "iopub.status.idle": "2024-08-11T19:52:51.726523Z",
     "shell.execute_reply": "2024-08-11T19:52:51.725189Z",
     "shell.execute_reply.started": "2024-08-11T19:52:51.694512Z"
    }
   },
   "outputs": [
    {
     "data": {
      "text/html": [
       "<div>\n",
       "<style scoped>\n",
       "    .dataframe tbody tr th:only-of-type {\n",
       "        vertical-align: middle;\n",
       "    }\n",
       "\n",
       "    .dataframe tbody tr th {\n",
       "        vertical-align: top;\n",
       "    }\n",
       "\n",
       "    .dataframe thead th {\n",
       "        text-align: right;\n",
       "    }\n",
       "</style>\n",
       "<table border=\"1\" class=\"dataframe\">\n",
       "  <thead>\n",
       "    <tr style=\"text-align: right;\">\n",
       "      <th></th>\n",
       "      <th>Age</th>\n",
       "      <th>Sex</th>\n",
       "      <th>ChestPainType</th>\n",
       "      <th>RestingBP</th>\n",
       "      <th>Cholesterol</th>\n",
       "      <th>FastingBS</th>\n",
       "      <th>RestingECG</th>\n",
       "      <th>MaxHR</th>\n",
       "      <th>ExerciseAngina</th>\n",
       "      <th>Oldpeak</th>\n",
       "      <th>ST_Slope</th>\n",
       "      <th>HeartDisease</th>\n",
       "    </tr>\n",
       "  </thead>\n",
       "  <tbody>\n",
       "    <tr>\n",
       "      <th>28</th>\n",
       "      <td>53</td>\n",
       "      <td>F</td>\n",
       "      <td>ATA</td>\n",
       "      <td>113</td>\n",
       "      <td>468</td>\n",
       "      <td>0</td>\n",
       "      <td>Normal</td>\n",
       "      <td>127</td>\n",
       "      <td>N</td>\n",
       "      <td>0.0</td>\n",
       "      <td>Up</td>\n",
       "      <td>0</td>\n",
       "    </tr>\n",
       "    <tr>\n",
       "      <th>30</th>\n",
       "      <td>53</td>\n",
       "      <td>M</td>\n",
       "      <td>NAP</td>\n",
       "      <td>145</td>\n",
       "      <td>518</td>\n",
       "      <td>0</td>\n",
       "      <td>Normal</td>\n",
       "      <td>130</td>\n",
       "      <td>N</td>\n",
       "      <td>0.0</td>\n",
       "      <td>Flat</td>\n",
       "      <td>1</td>\n",
       "    </tr>\n",
       "    <tr>\n",
       "      <th>69</th>\n",
       "      <td>44</td>\n",
       "      <td>M</td>\n",
       "      <td>ASY</td>\n",
       "      <td>150</td>\n",
       "      <td>412</td>\n",
       "      <td>0</td>\n",
       "      <td>Normal</td>\n",
       "      <td>170</td>\n",
       "      <td>N</td>\n",
       "      <td>0.0</td>\n",
       "      <td>Up</td>\n",
       "      <td>0</td>\n",
       "    </tr>\n",
       "    <tr>\n",
       "      <th>76</th>\n",
       "      <td>32</td>\n",
       "      <td>M</td>\n",
       "      <td>ASY</td>\n",
       "      <td>118</td>\n",
       "      <td>529</td>\n",
       "      <td>0</td>\n",
       "      <td>Normal</td>\n",
       "      <td>130</td>\n",
       "      <td>N</td>\n",
       "      <td>0.0</td>\n",
       "      <td>Flat</td>\n",
       "      <td>1</td>\n",
       "    </tr>\n",
       "    <tr>\n",
       "      <th>103</th>\n",
       "      <td>40</td>\n",
       "      <td>M</td>\n",
       "      <td>ASY</td>\n",
       "      <td>120</td>\n",
       "      <td>466</td>\n",
       "      <td>1</td>\n",
       "      <td>Normal</td>\n",
       "      <td>152</td>\n",
       "      <td>Y</td>\n",
       "      <td>1.0</td>\n",
       "      <td>Flat</td>\n",
       "      <td>1</td>\n",
       "    </tr>\n",
       "    <tr>\n",
       "      <th>...</th>\n",
       "      <td>...</td>\n",
       "      <td>...</td>\n",
       "      <td>...</td>\n",
       "      <td>...</td>\n",
       "      <td>...</td>\n",
       "      <td>...</td>\n",
       "      <td>...</td>\n",
       "      <td>...</td>\n",
       "      <td>...</td>\n",
       "      <td>...</td>\n",
       "      <td>...</td>\n",
       "      <td>...</td>\n",
       "    </tr>\n",
       "    <tr>\n",
       "      <th>535</th>\n",
       "      <td>56</td>\n",
       "      <td>M</td>\n",
       "      <td>ASY</td>\n",
       "      <td>130</td>\n",
       "      <td>0</td>\n",
       "      <td>0</td>\n",
       "      <td>LVH</td>\n",
       "      <td>122</td>\n",
       "      <td>Y</td>\n",
       "      <td>1.0</td>\n",
       "      <td>Flat</td>\n",
       "      <td>1</td>\n",
       "    </tr>\n",
       "    <tr>\n",
       "      <th>536</th>\n",
       "      <td>62</td>\n",
       "      <td>M</td>\n",
       "      <td>NAP</td>\n",
       "      <td>133</td>\n",
       "      <td>0</td>\n",
       "      <td>1</td>\n",
       "      <td>ST</td>\n",
       "      <td>119</td>\n",
       "      <td>Y</td>\n",
       "      <td>1.2</td>\n",
       "      <td>Flat</td>\n",
       "      <td>1</td>\n",
       "    </tr>\n",
       "    <tr>\n",
       "      <th>616</th>\n",
       "      <td>67</td>\n",
       "      <td>F</td>\n",
       "      <td>NAP</td>\n",
       "      <td>115</td>\n",
       "      <td>564</td>\n",
       "      <td>0</td>\n",
       "      <td>LVH</td>\n",
       "      <td>160</td>\n",
       "      <td>N</td>\n",
       "      <td>1.6</td>\n",
       "      <td>Flat</td>\n",
       "      <td>0</td>\n",
       "    </tr>\n",
       "    <tr>\n",
       "      <th>667</th>\n",
       "      <td>65</td>\n",
       "      <td>F</td>\n",
       "      <td>NAP</td>\n",
       "      <td>140</td>\n",
       "      <td>417</td>\n",
       "      <td>1</td>\n",
       "      <td>LVH</td>\n",
       "      <td>157</td>\n",
       "      <td>N</td>\n",
       "      <td>0.8</td>\n",
       "      <td>Up</td>\n",
       "      <td>0</td>\n",
       "    </tr>\n",
       "    <tr>\n",
       "      <th>796</th>\n",
       "      <td>56</td>\n",
       "      <td>F</td>\n",
       "      <td>ASY</td>\n",
       "      <td>134</td>\n",
       "      <td>409</td>\n",
       "      <td>0</td>\n",
       "      <td>LVH</td>\n",
       "      <td>150</td>\n",
       "      <td>Y</td>\n",
       "      <td>1.9</td>\n",
       "      <td>Flat</td>\n",
       "      <td>1</td>\n",
       "    </tr>\n",
       "  </tbody>\n",
       "</table>\n",
       "<p>183 rows × 12 columns</p>\n",
       "</div>"
      ],
      "text/plain": [
       "     Age Sex ChestPainType  RestingBP  Cholesterol  FastingBS RestingECG  \\\n",
       "28    53   F           ATA        113          468          0     Normal   \n",
       "30    53   M           NAP        145          518          0     Normal   \n",
       "69    44   M           ASY        150          412          0     Normal   \n",
       "76    32   M           ASY        118          529          0     Normal   \n",
       "103   40   M           ASY        120          466          1     Normal   \n",
       "..   ...  ..           ...        ...          ...        ...        ...   \n",
       "535   56   M           ASY        130            0          0        LVH   \n",
       "536   62   M           NAP        133            0          1         ST   \n",
       "616   67   F           NAP        115          564          0        LVH   \n",
       "667   65   F           NAP        140          417          1        LVH   \n",
       "796   56   F           ASY        134          409          0        LVH   \n",
       "\n",
       "     MaxHR ExerciseAngina  Oldpeak ST_Slope  HeartDisease  \n",
       "28     127              N      0.0       Up             0  \n",
       "30     130              N      0.0     Flat             1  \n",
       "69     170              N      0.0       Up             0  \n",
       "76     130              N      0.0     Flat             1  \n",
       "103    152              Y      1.0     Flat             1  \n",
       "..     ...            ...      ...      ...           ...  \n",
       "535    122              Y      1.0     Flat             1  \n",
       "536    119              Y      1.2     Flat             1  \n",
       "616    160              N      1.6     Flat             0  \n",
       "667    157              N      0.8       Up             0  \n",
       "796    150              Y      1.9     Flat             1  \n",
       "\n",
       "[183 rows x 12 columns]"
      ]
     },
     "execution_count": 76,
     "metadata": {},
     "output_type": "execute_result"
    }
   ],
   "source": [
    "cholesterol_outliers=df[(df['Cholesterol'] < lower_bound) | (df['Cholesterol'] > upper_bound)]\n",
    "cholesterol_outliers"
   ]
  },
  {
   "cell_type": "code",
   "execution_count": 77,
   "metadata": {
    "execution": {
     "iopub.execute_input": "2024-08-11T19:52:51.729500Z",
     "iopub.status.busy": "2024-08-11T19:52:51.728607Z",
     "iopub.status.idle": "2024-08-11T19:52:51.743972Z",
     "shell.execute_reply": "2024-08-11T19:52:51.742681Z",
     "shell.execute_reply.started": "2024-08-11T19:52:51.729450Z"
    }
   },
   "outputs": [
    {
     "name": "stdout",
     "output_type": "stream",
     "text": [
      "<class 'pandas.core.frame.DataFrame'>\n",
      "RangeIndex: 918 entries, 0 to 917\n",
      "Data columns (total 12 columns):\n",
      " #   Column          Non-Null Count  Dtype  \n",
      "---  ------          --------------  -----  \n",
      " 0   Age             918 non-null    int64  \n",
      " 1   Sex             918 non-null    object \n",
      " 2   ChestPainType   918 non-null    object \n",
      " 3   RestingBP       918 non-null    int64  \n",
      " 4   Cholesterol     918 non-null    int64  \n",
      " 5   FastingBS       918 non-null    int64  \n",
      " 6   RestingECG      918 non-null    object \n",
      " 7   MaxHR           918 non-null    int64  \n",
      " 8   ExerciseAngina  918 non-null    object \n",
      " 9   Oldpeak         918 non-null    float64\n",
      " 10  ST_Slope        918 non-null    object \n",
      " 11  HeartDisease    918 non-null    int64  \n",
      "dtypes: float64(1), int64(6), object(5)\n",
      "memory usage: 86.2+ KB\n"
     ]
    }
   ],
   "source": [
    "df.info()"
   ]
  },
  {
   "cell_type": "markdown",
   "metadata": {},
   "source": [
    "### Maximum heart rate"
   ]
  },
  {
   "cell_type": "code",
   "execution_count": 78,
   "metadata": {
    "execution": {
     "iopub.execute_input": "2024-08-11T19:52:51.745905Z",
     "iopub.status.busy": "2024-08-11T19:52:51.745460Z",
     "iopub.status.idle": "2024-08-11T19:52:51.761495Z",
     "shell.execute_reply": "2024-08-11T19:52:51.760056Z",
     "shell.execute_reply.started": "2024-08-11T19:52:51.745845Z"
    }
   },
   "outputs": [
    {
     "data": {
      "text/plain": [
       "count    918.000000\n",
       "mean     136.809368\n",
       "std       25.460334\n",
       "min       60.000000\n",
       "25%      120.000000\n",
       "50%      138.000000\n",
       "75%      156.000000\n",
       "max      202.000000\n",
       "Name: MaxHR, dtype: float64"
      ]
     },
     "execution_count": 78,
     "metadata": {},
     "output_type": "execute_result"
    }
   ],
   "source": [
    "df['MaxHR'].describe()"
   ]
  },
  {
   "cell_type": "code",
   "execution_count": 79,
   "metadata": {
    "execution": {
     "iopub.execute_input": "2024-08-11T19:52:51.763694Z",
     "iopub.status.busy": "2024-08-11T19:52:51.763285Z",
     "iopub.status.idle": "2024-08-11T19:52:52.158278Z",
     "shell.execute_reply": "2024-08-11T19:52:52.157059Z",
     "shell.execute_reply.started": "2024-08-11T19:52:51.763651Z"
    }
   },
   "outputs": [
    {
     "data": {
      "text/plain": [
       "<Axes: ylabel='Density'>"
      ]
     },
     "execution_count": 79,
     "metadata": {},
     "output_type": "execute_result"
    },
    {
     "data": {
      "image/png": "[encoded data removed]",
      "text/plain": [
       "<Figure size 640x480 with 1 Axes>"
      ]
     },
     "metadata": {},
     "output_type": "display_data"
    }
   ],
   "source": [
    "df['MaxHR'].plot(kind='kde')"
   ]
  },
  {
   "cell_type": "code",
   "execution_count": 80,
   "metadata": {
    "execution": {
     "iopub.execute_input": "2024-08-11T19:52:52.162042Z",
     "iopub.status.busy": "2024-08-11T19:52:52.160824Z",
     "iopub.status.idle": "2024-08-11T19:52:52.484253Z",
     "shell.execute_reply": "2024-08-11T19:52:52.483155Z",
     "shell.execute_reply.started": "2024-08-11T19:52:52.161995Z"
    }
   },
   "outputs": [
    {
     "data": {
      "text/plain": [
       "<Axes: ylabel='Frequency'>"
      ]
     },
     "execution_count": 80,
     "metadata": {},
     "output_type": "execute_result"
    },
    {
     "data": {
      "image/png": "[encoded data removed]",
      "text/plain": [
       "<Figure size 640x480 with 1 Axes>"
      ]
     },
     "metadata": {},
     "output_type": "display_data"
    }
   ],
   "source": [
    "df['MaxHR'].plot(kind='hist')"
   ]
  },
  {
   "cell_type": "markdown",
   "metadata": {},
   "source": [
    "- Average maximum heart rate is from 120 to 160 "
   ]
  },
  {
   "cell_type": "markdown",
   "metadata": {},
   "source": [
    "### Oldpeak"
   ]
  },
  {
   "cell_type": "code",
   "execution_count": 81,
   "metadata": {
    "execution": {
     "iopub.execute_input": "2024-08-11T19:52:52.485746Z",
     "iopub.status.busy": "2024-08-11T19:52:52.485438Z",
     "iopub.status.idle": "2024-08-11T19:52:52.500260Z",
     "shell.execute_reply": "2024-08-11T19:52:52.499204Z",
     "shell.execute_reply.started": "2024-08-11T19:52:52.485719Z"
    }
   },
   "outputs": [
    {
     "data": {
      "text/plain": [
       "count    918.000000\n",
       "mean       0.887364\n",
       "std        1.066570\n",
       "min       -2.600000\n",
       "25%        0.000000\n",
       "50%        0.600000\n",
       "75%        1.500000\n",
       "max        6.200000\n",
       "Name: Oldpeak, dtype: float64"
      ]
     },
     "execution_count": 81,
     "metadata": {},
     "output_type": "execute_result"
    }
   ],
   "source": [
    "df['Oldpeak'].describe()"
   ]
  },
  {
   "cell_type": "code",
   "execution_count": 82,
   "metadata": {
    "execution": {
     "iopub.execute_input": "2024-08-11T19:52:52.502951Z",
     "iopub.status.busy": "2024-08-11T19:52:52.502309Z",
     "iopub.status.idle": "2024-08-11T19:52:52.753170Z",
     "shell.execute_reply": "2024-08-11T19:52:52.751958Z",
     "shell.execute_reply.started": "2024-08-11T19:52:52.502909Z"
    }
   },
   "outputs": [
    {
     "data": {
      "text/plain": [
       "<Axes: ylabel='Frequency'>"
      ]
     },
     "execution_count": 82,
     "metadata": {},
     "output_type": "execute_result"
    },
    {
     "data": {
      "image/png": "[encoded data removed]",
      "text/plain": [
       "<Figure size 640x480 with 1 Axes>"
      ]
     },
     "metadata": {},
     "output_type": "display_data"
    }
   ],
   "source": [
    "df['Oldpeak'].plot(kind='hist')"
   ]
  },
  {
   "cell_type": "markdown",
   "metadata": {},
   "source": [
    "### Heart disease"
   ]
  },
  {
   "cell_type": "code",
   "execution_count": 83,
   "metadata": {
    "execution": {
     "iopub.execute_input": "2024-08-11T19:52:52.755197Z",
     "iopub.status.busy": "2024-08-11T19:52:52.754748Z",
     "iopub.status.idle": "2024-08-11T19:52:52.764795Z",
     "shell.execute_reply": "2024-08-11T19:52:52.763562Z",
     "shell.execute_reply.started": "2024-08-11T19:52:52.755158Z"
    }
   },
   "outputs": [
    {
     "data": {
      "text/plain": [
       "0      0\n",
       "1      1\n",
       "2      0\n",
       "3      1\n",
       "4      0\n",
       "      ..\n",
       "913    1\n",
       "914    1\n",
       "915    1\n",
       "916    1\n",
       "917    0\n",
       "Name: HeartDisease, Length: 918, dtype: int64"
      ]
     },
     "execution_count": 83,
     "metadata": {},
     "output_type": "execute_result"
    }
   ],
   "source": [
    "df['HeartDisease']"
   ]
  },
  {
   "cell_type": "code",
   "execution_count": 84,
   "metadata": {
    "execution": {
     "iopub.execute_input": "2024-08-11T19:52:52.766636Z",
     "iopub.status.busy": "2024-08-11T19:52:52.766213Z",
     "iopub.status.idle": "2024-08-11T19:52:52.785505Z",
     "shell.execute_reply": "2024-08-11T19:52:52.784272Z",
     "shell.execute_reply.started": "2024-08-11T19:52:52.766599Z"
    }
   },
   "outputs": [
    {
     "data": {
      "text/html": [
       "<div>\n",
       "<style scoped>\n",
       "    .dataframe tbody tr th:only-of-type {\n",
       "        vertical-align: middle;\n",
       "    }\n",
       "\n",
       "    .dataframe tbody tr th {\n",
       "        vertical-align: top;\n",
       "    }\n",
       "\n",
       "    .dataframe thead th {\n",
       "        text-align: right;\n",
       "    }\n",
       "</style>\n",
       "<table border=\"1\" class=\"dataframe\">\n",
       "  <thead>\n",
       "    <tr style=\"text-align: right;\">\n",
       "      <th></th>\n",
       "      <th>Frequency</th>\n",
       "      <th>Percentage %</th>\n",
       "    </tr>\n",
       "    <tr>\n",
       "      <th>HeartDisease</th>\n",
       "      <th></th>\n",
       "      <th></th>\n",
       "    </tr>\n",
       "  </thead>\n",
       "  <tbody>\n",
       "    <tr>\n",
       "      <th>1</th>\n",
       "      <td>508</td>\n",
       "      <td>55.337691</td>\n",
       "    </tr>\n",
       "    <tr>\n",
       "      <th>0</th>\n",
       "      <td>410</td>\n",
       "      <td>44.662309</td>\n",
       "    </tr>\n",
       "  </tbody>\n",
       "</table>\n",
       "</div>"
      ],
      "text/plain": [
       "              Frequency  Percentage %\n",
       "HeartDisease                         \n",
       "1                   508     55.337691\n",
       "0                   410     44.662309"
      ]
     },
     "execution_count": 84,
     "metadata": {},
     "output_type": "execute_result"
    }
   ],
   "source": [
    "HeartDisease_counts=df['HeartDisease'].value_counts()\n",
    "HeartDisease_percent=df['HeartDisease'].value_counts(normalize=True)*100\n",
    "freq_table7=pd.DataFrame({'Frequency':HeartDisease_counts,'Percentage %':HeartDisease_percent})\n",
    "freq_table7"
   ]
  },
  {
   "cell_type": "code",
   "execution_count": 85,
   "metadata": {
    "execution": {
     "iopub.execute_input": "2024-08-11T19:52:52.787175Z",
     "iopub.status.busy": "2024-08-11T19:52:52.786808Z",
     "iopub.status.idle": "2024-08-11T19:52:53.013961Z",
     "shell.execute_reply": "2024-08-11T19:52:53.012591Z",
     "shell.execute_reply.started": "2024-08-11T19:52:52.787147Z"
    }
   },
   "outputs": [
    {
     "data": {
      "text/plain": [
       "<Axes: xlabel='HeartDisease'>"
      ]
     },
     "execution_count": 85,
     "metadata": {},
     "output_type": "execute_result"
    },
    {
     "data": {
      "image/png": "[encoded data removed]",
      "text/plain": [
       "<Figure size 640x480 with 1 Axes>"
      ]
     },
     "metadata": {},
     "output_type": "display_data"
    }
   ],
   "source": [
    "HeartDisease_counts.plot(kind='bar')"
   ]
  },
  {
   "cell_type": "code",
   "execution_count": 86,
   "metadata": {
    "execution": {
     "iopub.execute_input": "2024-08-11T19:52:53.015683Z",
     "iopub.status.busy": "2024-08-11T19:52:53.015357Z",
     "iopub.status.idle": "2024-08-11T19:52:53.150343Z",
     "shell.execute_reply": "2024-08-11T19:52:53.148606Z",
     "shell.execute_reply.started": "2024-08-11T19:52:53.015655Z"
    }
   },
   "outputs": [
    {
     "data": {
      "text/plain": [
       "<Axes: ylabel='count'>"
      ]
     },
     "execution_count": 86,
     "metadata": {},
     "output_type": "execute_result"
    },
    {
     "data": {
      "image/png": "[encoded data removed]",
      "text/plain": [
       "<Figure size 640x480 with 1 Axes>"
      ]
     },
     "metadata": {},
     "output_type": "display_data"
    }
   ],
   "source": [
    "HeartDisease_counts.plot(kind='pie')"
   ]
  },
  {
   "cell_type": "code",
   "execution_count": 87,
   "metadata": {
    "execution": {
     "iopub.execute_input": "2024-08-11T19:52:53.153276Z",
     "iopub.status.busy": "2024-08-11T19:52:53.152599Z",
     "iopub.status.idle": "2024-08-11T19:52:53.183926Z",
     "shell.execute_reply": "2024-08-11T19:52:53.182370Z",
     "shell.execute_reply.started": "2024-08-11T19:52:53.153222Z"
    }
   },
   "outputs": [
    {
     "data": {
      "text/html": [
       "<div>\n",
       "<style scoped>\n",
       "    .dataframe tbody tr th:only-of-type {\n",
       "        vertical-align: middle;\n",
       "    }\n",
       "\n",
       "    .dataframe tbody tr th {\n",
       "        vertical-align: top;\n",
       "    }\n",
       "\n",
       "    .dataframe thead th {\n",
       "        text-align: right;\n",
       "    }\n",
       "</style>\n",
       "<table border=\"1\" class=\"dataframe\">\n",
       "  <thead>\n",
       "    <tr style=\"text-align: right;\">\n",
       "      <th></th>\n",
       "      <th>Age</th>\n",
       "      <th>RestingBP</th>\n",
       "      <th>Cholesterol</th>\n",
       "      <th>FastingBS</th>\n",
       "      <th>MaxHR</th>\n",
       "      <th>Oldpeak</th>\n",
       "      <th>HeartDisease</th>\n",
       "    </tr>\n",
       "  </thead>\n",
       "  <tbody>\n",
       "    <tr>\n",
       "      <th>Age</th>\n",
       "      <td>1.000000</td>\n",
       "      <td>0.254399</td>\n",
       "      <td>-0.095282</td>\n",
       "      <td>0.198039</td>\n",
       "      <td>-0.382045</td>\n",
       "      <td>0.258612</td>\n",
       "      <td>0.282039</td>\n",
       "    </tr>\n",
       "    <tr>\n",
       "      <th>RestingBP</th>\n",
       "      <td>0.254399</td>\n",
       "      <td>1.000000</td>\n",
       "      <td>0.100893</td>\n",
       "      <td>0.070193</td>\n",
       "      <td>-0.112135</td>\n",
       "      <td>0.164803</td>\n",
       "      <td>0.107589</td>\n",
       "    </tr>\n",
       "    <tr>\n",
       "      <th>Cholesterol</th>\n",
       "      <td>-0.095282</td>\n",
       "      <td>0.100893</td>\n",
       "      <td>1.000000</td>\n",
       "      <td>-0.260974</td>\n",
       "      <td>0.235792</td>\n",
       "      <td>0.050148</td>\n",
       "      <td>-0.232741</td>\n",
       "    </tr>\n",
       "    <tr>\n",
       "      <th>FastingBS</th>\n",
       "      <td>0.198039</td>\n",
       "      <td>0.070193</td>\n",
       "      <td>-0.260974</td>\n",
       "      <td>1.000000</td>\n",
       "      <td>-0.131438</td>\n",
       "      <td>0.052698</td>\n",
       "      <td>0.267291</td>\n",
       "    </tr>\n",
       "    <tr>\n",
       "      <th>MaxHR</th>\n",
       "      <td>-0.382045</td>\n",
       "      <td>-0.112135</td>\n",
       "      <td>0.235792</td>\n",
       "      <td>-0.131438</td>\n",
       "      <td>1.000000</td>\n",
       "      <td>-0.160691</td>\n",
       "      <td>-0.400421</td>\n",
       "    </tr>\n",
       "    <tr>\n",
       "      <th>Oldpeak</th>\n",
       "      <td>0.258612</td>\n",
       "      <td>0.164803</td>\n",
       "      <td>0.050148</td>\n",
       "      <td>0.052698</td>\n",
       "      <td>-0.160691</td>\n",
       "      <td>1.000000</td>\n",
       "      <td>0.403951</td>\n",
       "    </tr>\n",
       "    <tr>\n",
       "      <th>HeartDisease</th>\n",
       "      <td>0.282039</td>\n",
       "      <td>0.107589</td>\n",
       "      <td>-0.232741</td>\n",
       "      <td>0.267291</td>\n",
       "      <td>-0.400421</td>\n",
       "      <td>0.403951</td>\n",
       "      <td>1.000000</td>\n",
       "    </tr>\n",
       "  </tbody>\n",
       "</table>\n",
       "</div>"
      ],
      "text/plain": [
       "                   Age  RestingBP  Cholesterol  FastingBS     MaxHR   Oldpeak  \\\n",
       "Age           1.000000   0.254399    -0.095282   0.198039 -0.382045  0.258612   \n",
       "RestingBP     0.254399   1.000000     0.100893   0.070193 -0.112135  0.164803   \n",
       "Cholesterol  -0.095282   0.100893     1.000000  -0.260974  0.235792  0.050148   \n",
       "FastingBS     0.198039   0.070193    -0.260974   1.000000 -0.131438  0.052698   \n",
       "MaxHR        -0.382045  -0.112135     0.235792  -0.131438  1.000000 -0.160691   \n",
       "Oldpeak       0.258612   0.164803     0.050148   0.052698 -0.160691  1.000000   \n",
       "HeartDisease  0.282039   0.107589    -0.232741   0.267291 -0.400421  0.403951   \n",
       "\n",
       "              HeartDisease  \n",
       "Age               0.282039  \n",
       "RestingBP         0.107589  \n",
       "Cholesterol      -0.232741  \n",
       "FastingBS         0.267291  \n",
       "MaxHR            -0.400421  \n",
       "Oldpeak           0.403951  \n",
       "HeartDisease      1.000000  "
      ]
     },
     "execution_count": 87,
     "metadata": {},
     "output_type": "execute_result"
    }
   ],
   "source": [
    "df.corr(numeric_only=True)"
   ]
  },
  {
   "cell_type": "code",
   "execution_count": 88,
   "metadata": {
    "execution": {
     "iopub.execute_input": "2024-08-11T19:52:53.187607Z",
     "iopub.status.busy": "2024-08-11T19:52:53.186475Z",
     "iopub.status.idle": "2024-08-11T19:52:53.202975Z",
     "shell.execute_reply": "2024-08-11T19:52:53.200974Z",
     "shell.execute_reply.started": "2024-08-11T19:52:53.187547Z"
    }
   },
   "outputs": [
    {
     "data": {
      "text/plain": [
       "HeartDisease\n",
       "0    50.551220\n",
       "1    55.899606\n",
       "Name: Age, dtype: float64"
      ]
     },
     "execution_count": 88,
     "metadata": {},
     "output_type": "execute_result"
    }
   ],
   "source": [
    "df.groupby(['HeartDisease'])['Age'].mean()"
   ]
  },
  {
   "cell_type": "markdown",
   "metadata": {},
   "source": [
    "- The average age with heart disease is approximately 56 years."
   ]
  },
  {
   "cell_type": "code",
   "execution_count": 89,
   "metadata": {
    "execution": {
     "iopub.execute_input": "2024-08-11T19:52:53.206803Z",
     "iopub.status.busy": "2024-08-11T19:52:53.205615Z",
     "iopub.status.idle": "2024-08-11T19:52:53.227562Z",
     "shell.execute_reply": "2024-08-11T19:52:53.226383Z",
     "shell.execute_reply.started": "2024-08-11T19:52:53.206738Z"
    }
   },
   "outputs": [
    {
     "data": {
      "text/plain": [
       "Sex  HeartDisease\n",
       "F    0               143\n",
       "     1                50\n",
       "M    1               458\n",
       "     0               267\n",
       "Name: count, dtype: int64"
      ]
     },
     "execution_count": 89,
     "metadata": {},
     "output_type": "execute_result"
    }
   ],
   "source": [
    "df.groupby(['Sex'])['HeartDisease'].value_counts()"
   ]
  },
  {
   "cell_type": "markdown",
   "metadata": {},
   "source": [
    "- As the males are more than the females so they definitely have presence of heart disease more.\n",
    "- Most of the males have heart disease. \n",
    "- Females with no heart disease more than that with heart disease. \n"
   ]
  },
  {
   "cell_type": "code",
   "execution_count": 90,
   "metadata": {
    "execution": {
     "iopub.execute_input": "2024-08-11T19:52:53.229228Z",
     "iopub.status.busy": "2024-08-11T19:52:53.228891Z",
     "iopub.status.idle": "2024-08-11T19:52:53.243275Z",
     "shell.execute_reply": "2024-08-11T19:52:53.241959Z",
     "shell.execute_reply.started": "2024-08-11T19:52:53.229199Z"
    }
   },
   "outputs": [
    {
     "data": {
      "text/plain": [
       "ChestPainType  HeartDisease\n",
       "ASY            1               392\n",
       "               0               104\n",
       "ATA            0               149\n",
       "               1                24\n",
       "NAP            0               131\n",
       "               1                72\n",
       "TA             0                26\n",
       "               1                20\n",
       "Name: count, dtype: int64"
      ]
     },
     "execution_count": 90,
     "metadata": {},
     "output_type": "execute_result"
    }
   ],
   "source": [
    "df.groupby(['ChestPainType'])['HeartDisease'].value_counts()"
   ]
  },
  {
   "cell_type": "markdown",
   "metadata": {},
   "source": [
    "- People that have Chest pain type ASY are the most who have Heart Disease"
   ]
  }
 ],
 "metadata": {
  "kaggle": {
   "accelerator": "none",
   "dataSources": [
    {
     "datasetId": 1582403,
     "sourceId": 2603715,
     "sourceType": "datasetVersion"
    }
   ],
   "dockerImageVersionId": 30746,
   "isGpuEnabled": false,
   "isInternetEnabled": false,
   "language": "python",
   "sourceType": "notebook"
  },
  "kernelspec": {
   "display_name": "Python 3 (ipykernel)",
   "language": "python",
   "name": "python3"
  },
  "language_info": {
   "codemirror_mode": {
    "name": "ipython",
    "version": 3
   },
   "file_extension": ".py",
   "mimetype": "text/x-python",
   "name": "python",
   "nbconvert_exporter": "python",
   "pygments_lexer": "ipython3",
   "version": "3.11.7"
  }
 },
 "nbformat": 4,
 "nbformat_minor": 4
}
